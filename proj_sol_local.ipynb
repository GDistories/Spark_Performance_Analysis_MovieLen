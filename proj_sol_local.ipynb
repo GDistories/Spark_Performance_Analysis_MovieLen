{
 "cells": [
  {
   "cell_type": "code",
   "execution_count": 55,
   "id": "4689b2092611103e",
   "metadata": {
    "collapsed": false,
    "ExecuteTime": {
     "end_time": "2023-12-04T17:58:38.333632200Z",
     "start_time": "2023-12-04T17:58:06.367340400Z"
    }
   },
   "outputs": [
    {
     "name": "stderr",
     "output_type": "stream",
     "text": [
      "                                                                                \r"
     ]
    }
   ],
   "source": [
    "from pyspark.sql import SparkSession\n",
    "import time\n",
    "# 初始化 Spark 会话\n",
    "spark = SparkSession.\\\n",
    "        builder.\\\n",
    "        appName(\"MovieLens\").\\\n",
    "        master(\"local[*]\").\\\n",
    "        config(\"spark.executor.memory\", \"3g\").\\\n",
    "        getOrCreate()\n",
    "\n",
    "\n",
    "start_time = time.time()\n",
    "# 读取评分数据\n",
    "ratings_df = spark.read.csv('local-workspace/ml-25m/ratings.csv', header=True, inferSchema=True)\n",
    "movies_df = spark.read.csv('local-workspace/ml-25m/movies.csv', header=True, inferSchema=True)\n",
    "genome_scores_df = spark.read.csv('local-workspace/ml-25m/genome-scores.csv', header=True, inferSchema=True)"
   ]
  },
  {
   "cell_type": "code",
   "execution_count": 56,
   "id": "fee772e9e3946518",
   "metadata": {
    "collapsed": false,
    "ExecuteTime": {
     "end_time": "2023-12-04T17:59:04.321609800Z",
     "start_time": "2023-12-04T17:58:38.339714300Z"
    }
   },
   "outputs": [
    {
     "name": "stderr",
     "output_type": "stream",
     "text": [
      "[Stage 618:================>                                     (60 + 0) / 200]\r"
     ]
    },
    {
     "name": "stdout",
     "output_type": "stream",
     "text": [
      "+-------+--------------------+--------------+------------+\n",
      "|movieId|               title|average_rating|rating_count|\n",
      "+-------+--------------------+--------------+------------+\n",
      "| 204012|Kick That Habit (...|           5.0|           1|\n",
      "| 122193|   Kit Carson (1940)|           5.0|           1|\n",
      "| 202181| Warlock Moon (1973)|           5.0|           1|\n",
      "| 159471|Evening's Civil T...|           5.0|           1|\n",
      "| 131628|       Loaded (2014)|           5.0|           1|\n",
      "+-------+--------------------+--------------+------------+\n"
     ]
    },
    {
     "name": "stderr",
     "output_type": "stream",
     "text": [
      "                                                                                \r"
     ]
    }
   ],
   "source": [
    "from pyspark.sql.functions import avg, count\n",
    "from pyspark.sql.functions import split, col\n",
    "# 计算评级数\n",
    "average_ratings = ratings_df.groupBy(\"movieId\").agg(avg(\"rating\").alias(\"average_rating\"))\n",
    "# 计算每部电影的评分人数\n",
    "rating_counts = ratings_df.groupBy(\"movieId\").agg(count(\"userId\").alias(\"rating_count\"))\n",
    "# 合并平均评分和评分人数\n",
    "movie_ratings = average_ratings.join(rating_counts, \"movieId\")\n",
    "\n",
    "# 将电影标题加入结果中\n",
    "movies_with_titles = movie_ratings.join(movies_df, \"movieId\").select(\"movieId\", \"title\", \"average_rating\", \"rating_count\")\n",
    "# 按平均评分降序排序\n",
    "sorted_movie_ratings = movies_with_titles.orderBy(\"average_rating\", ascending=False)\n",
    "# 显示结果\n",
    "sorted_movie_ratings.show(5)"
   ]
  },
  {
   "cell_type": "code",
   "execution_count": 57,
   "id": "da9aa5209df99738",
   "metadata": {
    "collapsed": false,
    "ExecuteTime": {
     "end_time": "2023-12-04T17:59:29.381974800Z",
     "start_time": "2023-12-04T17:59:04.325340200Z"
    }
   },
   "outputs": [
    {
     "name": "stderr",
     "output_type": "stream",
     "text": [
      "[Stage 632:============>                                         (46 + 0) / 200]\r"
     ]
    },
    {
     "name": "stdout",
     "output_type": "stream",
     "text": [
      "+-------+--------------------+-----------------+------------+\n",
      "|movieId|               title|   average_rating|rating_count|\n",
      "+-------+--------------------+-----------------+------------+\n",
      "| 171011|Planet Earth II (...|4.483096085409253|        1124|\n",
      "| 159817| Planet Earth (2006)|4.464796794504865|        1747|\n",
      "|    318|Shawshank Redempt...|4.413576004516335|       81482|\n",
      "| 170705|Band of Brothers ...|4.398598820058997|        1356|\n",
      "| 158958|    Pollyanna (2003)|4.384615384615385|          13|\n",
      "+-------+--------------------+-----------------+------------+\n"
     ]
    },
    {
     "name": "stderr",
     "output_type": "stream",
     "text": [
      "                                                                                \r"
     ]
    }
   ],
   "source": [
    "# 筛选出评分人数大于 10 的电影\n",
    "movies_with_more_than_10_ratings = movies_with_titles.filter(movie_ratings.rating_count > 10)\n",
    "# 按平均评分降序排序\n",
    "sorted_movie_ratings = movies_with_more_than_10_ratings.orderBy(\"average_rating\", ascending=False)\n",
    "# 显示结果\n",
    "sorted_movie_ratings.show(5)"
   ]
  },
  {
   "cell_type": "code",
   "execution_count": 58,
   "id": "5031437f601798b0",
   "metadata": {
    "collapsed": false,
    "ExecuteTime": {
     "end_time": "2023-12-04T17:59:55.132331900Z",
     "start_time": "2023-12-04T17:59:29.372482900Z"
    }
   },
   "outputs": [
    {
     "name": "stderr",
     "output_type": "stream",
     "text": [
      "[Stage 637:==========>  (159 + 3) / 200][Stage 646:=>            (25 + 0) / 200]\r"
     ]
    },
    {
     "name": "stdout",
     "output_type": "stream",
     "text": [
      "+-------+--------------------+------------------+------------+\n",
      "|movieId|               title|    average_rating|rating_count|\n",
      "+-------+--------------------+------------------+------------+\n",
      "| 171011|Planet Earth II (...| 4.483096085409253|        1124|\n",
      "| 159817| Planet Earth (2006)| 4.464796794504865|        1747|\n",
      "|    318|Shawshank Redempt...| 4.413576004516335|       81482|\n",
      "| 170705|Band of Brothers ...| 4.398598820058997|        1356|\n",
      "| 171495|              Cosmos|4.3267148014440435|         277|\n",
      "+-------+--------------------+------------------+------------+\n"
     ]
    },
    {
     "name": "stderr",
     "output_type": "stream",
     "text": [
      "                                                                                \r"
     ]
    }
   ],
   "source": [
    "# 筛选出评分人数大于 100 的电影\n",
    "movies_with_more_than_100_ratings = movies_with_titles.filter(movie_ratings.rating_count > 100)\n",
    "# 按平均评分降序排序\n",
    "sorted_movie_ratings = movies_with_more_than_100_ratings.orderBy(\"average_rating\", ascending=False)\n",
    "# 显示结果\n",
    "sorted_movie_ratings.show(5)"
   ]
  },
  {
   "cell_type": "code",
   "execution_count": 59,
   "id": "723ac7b4f0bd7750",
   "metadata": {
    "collapsed": false,
    "ExecuteTime": {
     "end_time": "2023-12-04T18:00:31.237823700Z",
     "start_time": "2023-12-04T17:59:55.132843Z"
    }
   },
   "outputs": [
    {
     "name": "stderr",
     "output_type": "stream",
     "text": [
      "[Stage 660:=============>                                        (49 + 0) / 200]\r"
     ]
    },
    {
     "name": "stdout",
     "output_type": "stream",
     "text": [
      "+-------+--------------------+-----------------+------------+\n",
      "|movieId|               title|   average_rating|rating_count|\n",
      "+-------+--------------------+-----------------+------------+\n",
      "| 171011|Planet Earth II (...|4.483096085409253|        1124|\n",
      "| 159817| Planet Earth (2006)|4.464796794504865|        1747|\n",
      "|    318|Shawshank Redempt...|4.413576004516335|       81482|\n",
      "| 170705|Band of Brothers ...|4.398598820058997|        1356|\n",
      "|    858|Godfather, The (1...|4.324336165187245|       52498|\n",
      "+-------+--------------------+-----------------+------------+\n"
     ]
    },
    {
     "name": "stderr",
     "output_type": "stream",
     "text": [
      "                                                                                \r"
     ]
    }
   ],
   "source": [
    "# 筛选出评分人数大于 1000 的电影\n",
    "movies_with_more_than_1000_ratings = movies_with_titles.filter(movie_ratings.rating_count > 1000)\n",
    "# 按平均评分降序排序\n",
    "sorted_movie_ratings = movies_with_more_than_1000_ratings.orderBy(\"average_rating\", ascending=False)\n",
    "# 显示结果\n",
    "sorted_movie_ratings.show(5)"
   ]
  },
  {
   "cell_type": "markdown",
   "id": "cb2d1f6a125fdb73",
   "metadata": {
    "ExecuteTime": {
     "end_time": "2023-12-02T05:54:59.599548600Z",
     "start_time": "2023-12-02T05:54:59.579402Z"
    },
    "collapsed": false
   },
   "source": [
    "# 1. Splitting the Dataset:\n",
    "First, import the necessary modules and read your rating data into a Spark DataFrame. Then, split this data into training and testing sets."
   ]
  },
  {
   "cell_type": "code",
   "execution_count": 60,
   "outputs": [
    {
     "name": "stderr",
     "output_type": "stream",
     "text": [
      "[Stage 660:================>                                     (61 + 3) / 200]\r"
     ]
    },
    {
     "name": "stdout",
     "output_type": "stream",
     "text": [
      "Requirement already satisfied: numpy in /usr/local/lib/python3.9/dist-packages (1.26.2)\r\n"
     ]
    },
    {
     "name": "stderr",
     "output_type": "stream",
     "text": [
      "[Stage 660:==================>                                   (67 + 3) / 200]\r"
     ]
    },
    {
     "name": "stdout",
     "output_type": "stream",
     "text": [
      "\u001B[33mWARNING: Running pip as the 'root' user can result in broken permissions and conflicting behaviour with the system package manager. It is recommended to use a virtual environment instead: https://pip.pypa.io/warnings/venv\u001B[0m\u001B[33m\r\n",
      "\u001B[0m"
     ]
    },
    {
     "name": "stderr",
     "output_type": "stream",
     "text": [
      "[Stage 660:==================>                                   (70 + 3) / 200]\r"
     ]
    }
   ],
   "source": [
    "!pip install numpy"
   ],
   "metadata": {
    "collapsed": false,
    "ExecuteTime": {
     "end_time": "2023-12-04T18:00:32.730521900Z",
     "start_time": "2023-12-04T18:00:31.265007100Z"
    }
   },
   "id": "f84ab8bcc5e09f71"
  },
  {
   "cell_type": "code",
   "execution_count": 61,
   "id": "9b019011ede7ce52",
   "metadata": {
    "collapsed": false,
    "ExecuteTime": {
     "end_time": "2023-12-04T18:00:32.745739800Z",
     "start_time": "2023-12-04T18:00:32.730521900Z"
    }
   },
   "outputs": [],
   "source": [
    "from pyspark.ml.recommendation import ALS\n",
    "from pyspark.ml.evaluation import RegressionEvaluator\n",
    "from pyspark.ml import Pipeline\n",
    "from pyspark.ml.feature import StringIndexer, VectorAssembler\n",
    "from pyspark.sql.functions import col\n",
    "from pyspark.ml.regression import LinearRegression"
   ]
  },
  {
   "cell_type": "code",
   "execution_count": 62,
   "id": "a9c4138157e3bfc2",
   "metadata": {
    "collapsed": false,
    "ExecuteTime": {
     "end_time": "2023-12-04T18:00:32.760438200Z",
     "start_time": "2023-12-04T18:00:32.739841400Z"
    }
   },
   "outputs": [],
   "source": [
    "# Split the data\n",
    "(train_data, test_data) = ratings_df.randomSplit([0.7, 0.3], seed=5021)"
   ]
  },
  {
   "cell_type": "code",
   "execution_count": 63,
   "id": "f262d8c32a3a667a",
   "metadata": {
    "collapsed": false,
    "ExecuteTime": {
     "end_time": "2023-12-04T18:00:43.132795700Z",
     "start_time": "2023-12-04T18:00:32.760979Z"
    }
   },
   "outputs": [
    {
     "name": "stderr",
     "output_type": "stream",
     "text": [
      "[Stage 662:>                (0 + 1) / 1][Stage 671:==>           (37 + 2) / 200]\r"
     ]
    },
    {
     "name": "stdout",
     "output_type": "stream",
     "text": [
      "+------+-------+------+----------+\n",
      "|userId|movieId|rating| timestamp|\n",
      "+------+-------+------+----------+\n",
      "|     1|    296|   5.0|1147880044|\n",
      "|     1|    665|   5.0|1147878820|\n",
      "|     1|   1088|   4.0|1147868495|\n",
      "|     1|   1175|   3.5|1147868826|\n",
      "|     1|   1237|   5.0|1147868839|\n",
      "|     1|   1250|   4.0|1147868414|\n",
      "|     1|   1260|   3.5|1147877857|\n",
      "|     1|   2011|   2.5|1147868079|\n",
      "|     1|   2068|   2.5|1147869044|\n",
      "|     1|   2161|   3.5|1147868609|\n",
      "|     1|   2573|   4.0|1147878923|\n",
      "|     1|   2692|   5.0|1147869100|\n",
      "|     1|   3448|   4.0|1147868480|\n",
      "|     1|   3569|   5.0|1147879603|\n",
      "|     1|   3949|   5.0|1147868678|\n",
      "|     1|   4144|   5.0|1147868898|\n",
      "|     1|   4325|   5.0|1147878122|\n",
      "|     1|   4422|   3.0|1147869048|\n",
      "|     1|   4703|   4.0|1147869223|\n",
      "|     1|   5269|   0.5|1147879571|\n",
      "+------+-------+------+----------+\n"
     ]
    },
    {
     "name": "stderr",
     "output_type": "stream",
     "text": [
      "                                                                                \r"
     ]
    }
   ],
   "source": [
    "train_data.show()"
   ]
  },
  {
   "cell_type": "code",
   "execution_count": 64,
   "id": "5a161ffa7cd8ca1f",
   "metadata": {
    "collapsed": false,
    "ExecuteTime": {
     "end_time": "2023-12-04T18:01:01.611987700Z",
     "start_time": "2023-12-04T18:00:43.135902800Z"
    }
   },
   "outputs": [
    {
     "name": "stderr",
     "output_type": "stream",
     "text": [
      "[Stage 673:==============>  (5 + 1) / 6][Stage 683:=>            (18 + 3) / 200]\r"
     ]
    },
    {
     "name": "stdout",
     "output_type": "stream",
     "text": [
      "+-------+-----------------+------------------+------------------+--------------------+\n",
      "|summary|           userId|           movieId|            rating|           timestamp|\n",
      "+-------+-----------------+------------------+------------------+--------------------+\n",
      "|  count|          7502892|           7502892|           7502892|             7502892|\n",
      "|   mean|81188.96771058413| 21366.92766642516|3.5339601716244884|1.2155145892096126E9|\n",
      "| stddev|46789.99952670272|39174.464718786876|1.0608207109360328|2.2683766468352246E8|\n",
      "|    min|                1|                 1|               0.5|           789652009|\n",
      "|    max|           162541|            209169|               5.0|          1574327549|\n",
      "+-------+-----------------+------------------+------------------+--------------------+\n"
     ]
    },
    {
     "name": "stderr",
     "output_type": "stream",
     "text": [
      "                                                                                \r"
     ]
    }
   ],
   "source": [
    "test_data.describe().show()"
   ]
  },
  {
   "cell_type": "markdown",
   "id": "fea4ff3df3444541",
   "metadata": {
    "ExecuteTime": {
     "end_time": "2023-12-02T05:56:30.049542500Z",
     "start_time": "2023-12-02T05:56:30.013347700Z"
    },
    "collapsed": false
   },
   "source": [
    "# 2. Matrix Factorization with ALS:\n",
    "ALS (Alternating Least Squares) is a popular matrix factorization algorithm in Spark's MLlib for collaborative filtering."
   ]
  },
  {
   "cell_type": "code",
   "execution_count": 65,
   "id": "c67bac7e8dcb86b",
   "metadata": {
    "collapsed": false,
    "ExecuteTime": {
     "end_time": "2023-12-04T18:02:27.565948100Z",
     "start_time": "2023-12-04T18:01:01.613015300Z"
    }
   },
   "outputs": [
    {
     "name": "stderr",
     "output_type": "stream",
     "text": [
      "                                                                                \r"
     ]
    }
   ],
   "source": [
    "ALS_start_time = time.time()\n",
    "als = ALS(maxIter=5, regParam=0.01, userCol=\"userId\", itemCol=\"movieId\", ratingCol=\"rating\", coldStartStrategy=\"drop\")\n",
    "als_model = als.fit(train_data)\n",
    "# Predictions\n",
    "predictions = als_model.transform(test_data)"
   ]
  },
  {
   "cell_type": "code",
   "execution_count": 66,
   "id": "33b57b4a31e11eb",
   "metadata": {
    "collapsed": false,
    "ExecuteTime": {
     "end_time": "2023-12-04T18:03:29.380590800Z",
     "start_time": "2023-12-04T18:02:27.566629100Z"
    }
   },
   "outputs": [
    {
     "name": "stderr",
     "output_type": "stream",
     "text": [
      "                                                                                \r"
     ]
    },
    {
     "name": "stdout",
     "output_type": "stream",
     "text": [
      "Root-mean-square error = 0.8221968954594174\n"
     ]
    },
    {
     "name": "stderr",
     "output_type": "stream",
     "text": [
      "[Stage 815:============>(191 + 3) / 200][Stage 825:=>            (26 + 0) / 200]\r"
     ]
    },
    {
     "name": "stdout",
     "output_type": "stream",
     "text": [
      "R2: 0.39913453396002274\n",
      "Time used for ALS: 147.75905752182007\n"
     ]
    },
    {
     "name": "stderr",
     "output_type": "stream",
     "text": [
      "                                                                                \r"
     ]
    }
   ],
   "source": [
    "evaluator = RegressionEvaluator(metricName=\"rmse\", labelCol=\"rating\", predictionCol=\"prediction\")\n",
    "rmse = evaluator.evaluate(predictions)\n",
    "print(\"Root-mean-square error = \" + str(rmse))\n",
    "evaluator = RegressionEvaluator(predictionCol=\"prediction\", labelCol=\"rating\", metricName=\"r2\")\n",
    "test_eval = evaluator.evaluate(predictions)\n",
    "print(\"R2: {}\".format(test_eval))\n",
    "ALS_end_time = time.time()\n",
    "print(\"Time used for ALS: {}\".format(ALS_end_time - ALS_start_time))"
   ]
  },
  {
   "cell_type": "markdown",
   "id": "b78617ca9c0abb5d",
   "metadata": {
    "collapsed": false
   },
   "source": [
    "# 3. Extract Features and Build Another ML Model:\n",
    "For this part, you need to join your user and movie data with the rating data, then transform these features into a format suitable for machine learning models in Spark."
   ]
  },
  {
   "cell_type": "code",
   "execution_count": 67,
   "id": "d0998b488f26938c",
   "metadata": {
    "collapsed": false,
    "ExecuteTime": {
     "end_time": "2023-12-04T18:05:12.844120800Z",
     "start_time": "2023-12-04T18:03:29.379063400Z"
    }
   },
   "outputs": [
    {
     "name": "stderr",
     "output_type": "stream",
     "text": [
      "23/12/04 18:04:00 WARN Instrumentation: [5681e7cd] regParam is zero, which might cause numerical instability and overfitting.\n",
      "23/12/04 18:04:00 WARN DAGScheduler: Broadcasting large task binary with size 4.2 MiB\n",
      "23/12/04 18:04:30 WARN DAGScheduler: Broadcasting large task binary with size 4.2 MiB\n",
      "23/12/04 18:04:31 WARN DAGScheduler: Broadcasting large task binary with size 4.2 MiB\n",
      "23/12/04 18:04:51 WARN DAGScheduler: Broadcasting large task binary with size 4.2 MiB\n",
      "                                                                                \r"
     ]
    }
   ],
   "source": [
    "# Assuming movies_df and users_df are your DataFrames for movies and users\n",
    "# Join them with the rating data and perform feature transformations\n",
    "\n",
    "# An example of a feature transformation\n",
    "lr_start_time = time.time()\n",
    "string_indexer = StringIndexer(inputCol=\"userId\", outputCol=\"userIdIndex\")\n",
    "vector_assembler = VectorAssembler(inputCols=[\"userIdIndex\", \"movieId\"], outputCol=\"features\")\n",
    "\n",
    "lr = LinearRegression(featuresCol=\"features\", labelCol=\"rating\")\n",
    "\n",
    "# Pipeline\n",
    "pipeline = Pipeline(stages=[string_indexer, vector_assembler, lr])\n",
    "lr_model = pipeline.fit(train_data)\n",
    "\n",
    "# predictions\n",
    "lr_predictions = lr_model.transform(test_data)"
   ]
  },
  {
   "cell_type": "code",
   "execution_count": 68,
   "id": "1b6d6eb9af49b149",
   "metadata": {
    "collapsed": false,
    "ExecuteTime": {
     "end_time": "2023-12-04T18:06:05.468733200Z",
     "start_time": "2023-12-04T18:05:12.845674500Z"
    }
   },
   "outputs": [
    {
     "name": "stderr",
     "output_type": "stream",
     "text": [
      "23/12/04 18:05:13 WARN DAGScheduler: Broadcasting large task binary with size 4.2 MiB\n",
      "23/12/04 18:05:36 WARN DAGScheduler: Broadcasting large task binary with size 4.2 MiB\n",
      "                                                                                \r"
     ]
    },
    {
     "name": "stdout",
     "output_type": "stream",
     "text": [
      "RMSE: 1.051967075754656\n"
     ]
    },
    {
     "name": "stderr",
     "output_type": "stream",
     "text": [
      "23/12/04 18:05:37 WARN DAGScheduler: Broadcasting large task binary with size 4.2 MiB\n",
      "23/12/04 18:06:05 WARN DAGScheduler: Broadcasting large task binary with size 4.2 MiB\n",
      "[Stage 897:====>                                                 (18 + 1) / 200]\r"
     ]
    },
    {
     "name": "stdout",
     "output_type": "stream",
     "text": [
      "R2: 0.016622260944419875\n",
      "Time used for Linear Regression: 156.06520175933838\n"
     ]
    },
    {
     "name": "stderr",
     "output_type": "stream",
     "text": [
      "                                                                                \r"
     ]
    }
   ],
   "source": [
    "# evaluations\n",
    "evaluator = RegressionEvaluator(predictionCol=\"prediction\", labelCol=\"rating\", metricName=\"rmse\")\n",
    "test_eval = evaluator.evaluate(lr_predictions)\n",
    "print(\"RMSE: {}\".format(test_eval))\n",
    "evaluator = RegressionEvaluator(predictionCol=\"prediction\", labelCol=\"rating\", metricName=\"r2\")\n",
    "test_eval = evaluator.evaluate(lr_predictions)\n",
    "print(\"R2: {}\".format(test_eval))\n",
    "lr_end_time = time.time()\n",
    "print(\"Time used for Linear Regression: {}\".format(lr_end_time - lr_start_time))"
   ]
  },
  {
   "cell_type": "markdown",
   "id": "278e89c9e444ce55",
   "metadata": {
    "collapsed": false
   },
   "source": [
    "### Deal with the feature of movies\n",
    "Count the average score of each movie\n",
    "Get the one-hot encoding of genres"
   ]
  },
  {
   "cell_type": "code",
   "execution_count": 69,
   "id": "4086b7521321b9ff",
   "metadata": {
    "collapsed": false,
    "ExecuteTime": {
     "end_time": "2023-12-04T18:06:57.331093400Z",
     "start_time": "2023-12-04T18:06:05.474015300Z"
    }
   },
   "outputs": [
    {
     "name": "stderr",
     "output_type": "stream",
     "text": [
      "[Stage 916:==============>  (5 + 1) / 6][Stage 926:==>           (33 + 2) / 200]\r"
     ]
    },
    {
     "name": "stdout",
     "output_type": "stream",
     "text": [
      "+-------+--------------------+------------------+\n",
      "|movieId|movie_average_rating|movie_rating_count|\n",
      "+-------+--------------------+------------------+\n",
      "|    148|   2.908955223880597|               335|\n",
      "|    463|   2.813008130081301|               369|\n",
      "|    471|  3.6579813752234034|             10631|\n",
      "|    496|  3.2767624020887727|               383|\n",
      "|    833|  2.7182422451994093|              1354|\n",
      "+-------+--------------------+------------------+\n"
     ]
    },
    {
     "name": "stderr",
     "output_type": "stream",
     "text": [
      "                                                                                \r"
     ]
    }
   ],
   "source": [
    "\n",
    "from pyspark.sql.functions import avg, col\n",
    "data_pre_process_start_time = time.time()\n",
    "# 求所有电影的平均评分\n",
    "average_rating_df = movies_with_titles.select(\"movieId\", \"average_rating\", \"rating_count\") # 前面已经算过\n",
    "average_rating_df = average_rating_df.withColumnRenamed(\"average_rating\", \"movie_average_rating\")\n",
    "average_rating_df = average_rating_df.withColumnRenamed(\"rating_count\", \"movie_rating_count\")\n",
    "\n",
    "# 用均分填补没有打分的电影\n",
    "overall_average_rating = average_rating_df.select(avg(\"movie_average_rating\")).first()[0]\n",
    "average_rating_df = average_rating_df.na.fill({\"movie_average_rating\": overall_average_rating})\n",
    "\n",
    "# 显示前5条记录\n",
    "average_rating_df.show(5)"
   ]
  },
  {
   "cell_type": "code",
   "execution_count": 70,
   "id": "5393ace19a96c032",
   "metadata": {
    "collapsed": false,
    "ExecuteTime": {
     "end_time": "2023-12-04T18:06:57.366583400Z",
     "start_time": "2023-12-04T18:06:57.329503200Z"
    }
   },
   "outputs": [],
   "source": [
    "from pyspark.sql.functions import split\n",
    "from pyspark.ml.feature import OneHotEncoder, StringIndexer\n",
    "\n",
    "# 拆分 genres 字段\n",
    "movies_df_vectorized = movies_df.withColumn(\"split_genres\", split(col(\"genres\"), \"\\|\"))"
   ]
  },
  {
   "cell_type": "code",
   "execution_count": 71,
   "id": "f38510edb24129d2",
   "metadata": {
    "collapsed": false,
    "ExecuteTime": {
     "end_time": "2023-12-04T18:07:03.928452700Z",
     "start_time": "2023-12-04T18:06:57.343346700Z"
    }
   },
   "outputs": [
    {
     "name": "stderr",
     "output_type": "stream",
     "text": [
      "                                                                                \r"
     ]
    }
   ],
   "source": [
    "from pyspark.sql.functions import col, split, explode, udf\n",
    "from pyspark.sql.types import ArrayType, IntegerType\n",
    "# 获取所有可能的类别\n",
    "all_genres = movies_df_vectorized.select(explode(col(\"split_genres\")).alias(\"genre\")).distinct().collect()\n",
    "all_genres = [row['genre'] for row in all_genres]\n",
    "\n",
    "# 为每个类别定义一个 UDF\n",
    "def genre_indicator(genre):\n",
    "    def indicator(genres_list):\n",
    "        return 1 if genre in genres_list else 0\n",
    "    return udf(indicator, IntegerType())\n",
    "\n",
    "# 为每个类别添加一个新列\n",
    "for genre in all_genres:\n",
    "    genre_udf = genre_indicator(genre)\n",
    "    movies_df_vectorized = movies_df_vectorized.withColumn(genre, genre_udf(col(\"split_genres\")))\n",
    "movies_df_vectorized = movies_df_vectorized.drop(\"title\", \"genres\", \"split_genres\")"
   ]
  },
  {
   "cell_type": "code",
   "execution_count": 72,
   "id": "5147f617359ab130",
   "metadata": {
    "collapsed": false,
    "ExecuteTime": {
     "end_time": "2023-12-04T18:07:04.241372600Z",
     "start_time": "2023-12-04T18:07:03.925305400Z"
    }
   },
   "outputs": [
    {
     "name": "stdout",
     "output_type": "stream",
     "text": [
      "+-------+-----+-------+--------+---------+-----+---+-----------+-------+-------+-------+---------+---------+------------------+----+------+-------+------+--------+------+------+\n",
      "|movieId|Crime|Romance|Thriller|Adventure|Drama|War|Documentary|Fantasy|Mystery|Musical|Animation|Film-Noir|(no genres listed)|IMAX|Horror|Western|Comedy|Children|Action|Sci-Fi|\n",
      "+-------+-----+-------+--------+---------+-----+---+-----------+-------+-------+-------+---------+---------+------------------+----+------+-------+------+--------+------+------+\n",
      "|      1|    0|      0|       0|        1|    0|  0|          0|      1|      0|      0|        1|        0|                 0|   0|     0|      0|     1|       1|     0|     0|\n",
      "|      2|    0|      0|       0|        1|    0|  0|          0|      1|      0|      0|        0|        0|                 0|   0|     0|      0|     0|       1|     0|     0|\n",
      "|      3|    0|      1|       0|        0|    0|  0|          0|      0|      0|      0|        0|        0|                 0|   0|     0|      0|     1|       0|     0|     0|\n",
      "|      4|    0|      1|       0|        0|    1|  0|          0|      0|      0|      0|        0|        0|                 0|   0|     0|      0|     1|       0|     0|     0|\n",
      "|      5|    0|      0|       0|        0|    0|  0|          0|      0|      0|      0|        0|        0|                 0|   0|     0|      0|     1|       0|     0|     0|\n",
      "+-------+-----+-------+--------+---------+-----+---+-----------+-------+-------+-------+---------+---------+------------------+----+------+-------+------+--------+------+------+\n"
     ]
    },
    {
     "name": "stderr",
     "output_type": "stream",
     "text": [
      "                                                                                \r"
     ]
    }
   ],
   "source": [
    "movies_df_vectorized.show(5)"
   ]
  },
  {
   "cell_type": "code",
   "execution_count": 73,
   "outputs": [
    {
     "name": "stdout",
     "output_type": "stream",
     "text": [
      "+-------+--------------------+--------------------+\n",
      "|movieId|               title|              genres|\n",
      "+-------+--------------------+--------------------+\n",
      "|      1|    Toy Story (1995)|Adventure|Animati...|\n",
      "|      2|      Jumanji (1995)|Adventure|Childre...|\n",
      "|      3|Grumpier Old Men ...|      Comedy|Romance|\n",
      "|      4|Waiting to Exhale...|Comedy|Drama|Romance|\n",
      "|      5|Father of the Bri...|              Comedy|\n",
      "+-------+--------------------+--------------------+\n"
     ]
    }
   ],
   "source": [
    "movies_df.show(5)"
   ],
   "metadata": {
    "collapsed": false,
    "ExecuteTime": {
     "end_time": "2023-12-04T18:07:04.387195800Z",
     "start_time": "2023-12-04T18:07:04.241372600Z"
    }
   },
   "id": "ee7bc8936ba8ee97"
  },
  {
   "cell_type": "markdown",
   "id": "d68d34207ac58692",
   "metadata": {
    "collapsed": false
   },
   "source": [
    "### Another vectorized method of movie genre\n"
   ]
  },
  {
   "cell_type": "code",
   "execution_count": 74,
   "id": "4067153454446dff",
   "metadata": {
    "collapsed": false,
    "ExecuteTime": {
     "end_time": "2023-12-04T18:07:04.510902300Z",
     "start_time": "2023-12-04T18:07:04.304847400Z"
    }
   },
   "outputs": [
    {
     "name": "stdout",
     "output_type": "stream",
     "text": [
      "+-------+---------+---------+--------+------+-------+------+------+------+------+-------+\n",
      "|movieId|   genre1|   genre2|  genre3|genre4| genre5|genre6|genre7|genre8|genre9|genre10|\n",
      "+-------+---------+---------+--------+------+-------+------+------+------+------+-------+\n",
      "|      1|Adventure|Animation|Children|Comedy|Fantasy|  null|  null|  null|  null|   null|\n",
      "|      2|Adventure| Children| Fantasy|  null|   null|  null|  null|  null|  null|   null|\n",
      "|      3|   Comedy|  Romance|    null|  null|   null|  null|  null|  null|  null|   null|\n",
      "|      4|   Comedy|    Drama| Romance|  null|   null|  null|  null|  null|  null|   null|\n",
      "|      5|   Comedy|     null|    null|  null|   null|  null|  null|  null|  null|   null|\n",
      "+-------+---------+---------+--------+------+-------+------+------+------+------+-------+\n"
     ]
    }
   ],
   "source": [
    "max_array_length = 10\n",
    "# 假设 movie_df 是您的原始 DataFrame，并且 genres 列包含由 '|' 分隔的字符串\n",
    "# 将 genres 列拆分为数组\n",
    "split_genres = split(movies_df['genres'], '\\|')\n",
    "\n",
    "new_columns = [movies_df['movieId']]  # 包括 movieId 列\n",
    "# 使用列表推导式创建新列\n",
    "new_columns += [split_genres.getItem(i).alias(f'genre{i+1}') for i in range(max_array_length)]\n",
    "# 创建新的 DataFrame，仅包含这些 genre 列\n",
    "genre_df = movies_df.select(*new_columns)\n",
    "# 显示结果\n",
    "genre_df.show(5)"
   ]
  },
  {
   "cell_type": "code",
   "execution_count": 75,
   "id": "f81029406e40e218",
   "metadata": {
    "collapsed": false,
    "ExecuteTime": {
     "end_time": "2023-12-04T18:07:15.434501300Z",
     "start_time": "2023-12-04T18:07:04.397163Z"
    }
   },
   "outputs": [
    {
     "name": "stderr",
     "output_type": "stream",
     "text": [
      "                                                                                \r"
     ]
    },
    {
     "name": "stdout",
     "output_type": "stream",
     "text": [
      "+-------+-----------+-----------+-----------+-----------+-----------+-----------+-----------+-----------+-----------+------------+\n",
      "|movieId|genre1Index|genre2Index|genre3Index|genre4Index|genre5Index|genre6Index|genre7Index|genre8Index|genre9Index|genre10Index|\n",
      "+-------+-----------+-----------+-----------+-----------+-----------+-----------+-----------+-----------+-----------+------------+\n",
      "|      1|        7.0|       12.0|        9.0|        5.0|        3.0|       11.0|        8.0|        3.0|        1.0|         1.0|\n",
      "|      2|        7.0|       10.0|        5.0|       16.0|       13.0|       11.0|        8.0|        3.0|        1.0|         1.0|\n",
      "|      3|        1.0|        1.0|       17.0|       16.0|       13.0|       11.0|        8.0|        3.0|        1.0|         1.0|\n",
      "|      4|        1.0|        0.0|        1.0|       16.0|       13.0|       11.0|        8.0|        3.0|        1.0|         1.0|\n",
      "|      5|        1.0|       18.0|       17.0|       16.0|       13.0|       11.0|        8.0|        3.0|        1.0|         1.0|\n",
      "|      6|        2.0|        5.0|        0.0|       16.0|       13.0|       11.0|        8.0|        3.0|        1.0|         1.0|\n",
      "|      7|        1.0|        1.0|       17.0|       16.0|       13.0|       11.0|        8.0|        3.0|        1.0|         1.0|\n",
      "|      8|        7.0|       10.0|       17.0|       16.0|       13.0|       11.0|        8.0|        3.0|        1.0|         1.0|\n",
      "|      9|        2.0|       18.0|       17.0|       16.0|       13.0|       11.0|        8.0|        3.0|        1.0|         1.0|\n",
      "|     10|        2.0|        6.0|        0.0|       16.0|       13.0|       11.0|        8.0|        3.0|        1.0|         1.0|\n",
      "|     11|        1.0|        0.0|        1.0|       16.0|       13.0|       11.0|        8.0|        3.0|        1.0|         1.0|\n",
      "|     12|        1.0|        4.0|       17.0|       16.0|       13.0|       11.0|        8.0|        3.0|        1.0|         1.0|\n",
      "|     13|        7.0|       12.0|        9.0|       16.0|       13.0|       11.0|        8.0|        3.0|        1.0|         1.0|\n",
      "|     14|        0.0|       18.0|       17.0|       16.0|       13.0|       11.0|        8.0|        3.0|        1.0|         1.0|\n",
      "|     15|        2.0|        6.0|        1.0|       16.0|       13.0|       11.0|        8.0|        3.0|        1.0|         1.0|\n",
      "|     16|        6.0|        0.0|       17.0|       16.0|       13.0|       11.0|        8.0|        3.0|        1.0|         1.0|\n",
      "|     17|        0.0|        1.0|       17.0|       16.0|       13.0|       11.0|        8.0|        3.0|        1.0|         1.0|\n",
      "|     18|        1.0|       18.0|       17.0|       16.0|       13.0|       11.0|        8.0|        3.0|        1.0|         1.0|\n",
      "|     19|        1.0|       18.0|       17.0|       16.0|       13.0|       11.0|        8.0|        3.0|        1.0|         1.0|\n",
      "|     20|        2.0|        3.0|       10.0|        6.0|        0.0|       11.0|        8.0|        3.0|        1.0|         1.0|\n",
      "+-------+-----------+-----------+-----------+-----------+-----------+-----------+-----------+-----------+-----------+------------+\n"
     ]
    }
   ],
   "source": [
    "# 进行indexer操作\n",
    "indexers = [StringIndexer(inputCol=f'genre{i+1}', outputCol=f'genre{i+1}Index', handleInvalid=\"keep\") for i in range(max_array_length)]\n",
    "# 创建 Pipeline\n",
    "pipeline = Pipeline(stages=indexers)\n",
    "# 应用 Pipeline\n",
    "indexed_df = pipeline.fit(genre_df).transform(genre_df)\n",
    "selected_columns = [col for col in indexed_df.columns if not col.startswith('genre') or col.endswith('Index')]\n",
    "genre_indexed_df = indexed_df.select(selected_columns)\n",
    "# 显示结果\n",
    "genre_indexed_df.show()"
   ]
  },
  {
   "cell_type": "markdown",
   "id": "b15d38957b8ab018",
   "metadata": {
    "collapsed": false
   },
   "source": [
    "## Deal with the feature of users\n",
    "calculate the average rating of each user\n",
    "calculate the average rating of each user in each kind of movie\n",
    "calculate the max point and the min point of each user"
   ]
  },
  {
   "cell_type": "code",
   "execution_count": 76,
   "id": "661ba3541a433a7",
   "metadata": {
    "collapsed": false,
    "ExecuteTime": {
     "end_time": "2023-12-04T18:07:42.282770400Z",
     "start_time": "2023-12-04T18:07:15.436622400Z"
    }
   },
   "outputs": [
    {
     "name": "stderr",
     "output_type": "stream",
     "text": [
      "[Stage 974:==============>  (5 + 1) / 6][Stage 984:==>           (30 + 2) / 200]\r"
     ]
    },
    {
     "name": "stdout",
     "output_type": "stream",
     "text": [
      "+------+-------------------+\n",
      "|userId|user_average_rating|\n",
      "+------+-------------------+\n",
      "| 65408|  3.745614035087719|\n",
      "| 65478|  4.638888888888889|\n",
      "| 65867| 3.9887640449438204|\n",
      "| 66010|  2.519230769230769|\n",
      "| 66166|  3.742424242424242|\n",
      "+------+-------------------+\n"
     ]
    },
    {
     "name": "stderr",
     "output_type": "stream",
     "text": [
      "                                                                                \r"
     ]
    }
   ],
   "source": [
    "# 假设 rating_df 已经是一个 PySpark DataFrame\n",
    "# 计算每个用户的电影平均评分\n",
    "user_average_ratings = ratings_df.groupBy(\"userId\").agg(avg(\"rating\").alias(\"user_average_rating\"))\n",
    "# 显示结果\n",
    "user_average_ratings.show(5)"
   ]
  },
  {
   "cell_type": "code",
   "execution_count": 77,
   "id": "a44de6bbfb6ba03d",
   "metadata": {
    "collapsed": false,
    "ExecuteTime": {
     "end_time": "2023-12-04T18:07:42.300521400Z",
     "start_time": "2023-12-04T18:07:42.280670Z"
    }
   },
   "outputs": [],
   "source": [
    "big_df = ratings_df.join(user_average_ratings, on=\"userId\")"
   ]
  },
  {
   "cell_type": "code",
   "execution_count": 78,
   "id": "cc5c811d1e6d6172",
   "metadata": {
    "collapsed": false,
    "ExecuteTime": {
     "end_time": "2023-12-04T18:07:42.315680600Z",
     "start_time": "2023-12-04T18:07:42.294742600Z"
    }
   },
   "outputs": [],
   "source": [
    "big_df = big_df.join(movies_df_vectorized, on=\"movieId\")"
   ]
  },
  {
   "cell_type": "code",
   "execution_count": 79,
   "id": "e5f0731712fa231b",
   "metadata": {
    "collapsed": false,
    "ExecuteTime": {
     "end_time": "2023-12-04T18:07:42.706626900Z",
     "start_time": "2023-12-04T18:07:42.311926Z"
    }
   },
   "outputs": [],
   "source": [
    "from pyspark.sql.functions import col, when, avg\n",
    "\n",
    "# 假设 big_df 已经是一个 PySpark DataFrame\n",
    "# 列出所有的电影类型\n",
    "genres = [\"Crime\", \"Romance\", \"Thriller\", \"Adventure\", \"Drama\", \"War\", \n",
    "          \"Documentary\", \"Fantasy\", \"Mystery\", \"Musical\", \"Animation\", \n",
    "          \"Film-Noir\", \"(no genres listed)\", \"IMAX\", \"Horror\", \"Western\", \n",
    "          \"Comedy\", \"Children\", \"Action\", \"Sci-Fi\"]\n",
    "\n",
    "# 计算每个用户对每个类型的平均评分\n",
    "exprs = [avg(when(col(genre) == 1, col(\"rating\"))).alias(genre) for genre in genres]\n",
    "\n",
    "user_genre_ratings = big_df.groupBy(\"userId\").agg(*exprs)\n",
    "user_genre_ratings = user_genre_ratings.join(user_average_ratings, \"userId\")\n",
    "\n",
    "\n",
    "# 填充缺失值\n",
    "for genre in genres:\n",
    "    user_genre_ratings = user_genre_ratings.withColumn(genre, when(col(genre).isNull(), col(\"user_average_rating\")).otherwise(col(genre)))"
   ]
  },
  {
   "cell_type": "code",
   "execution_count": 80,
   "id": "40d8be910b21146c",
   "metadata": {
    "collapsed": false,
    "ExecuteTime": {
     "end_time": "2023-12-04T18:07:42.780006Z",
     "start_time": "2023-12-04T18:07:42.707674100Z"
    }
   },
   "outputs": [],
   "source": [
    "# 改column名方便确认这部分特征是来自用户的\n",
    "for genre in genres:\n",
    "    user_genre_ratings = user_genre_ratings.withColumnRenamed(genre, \"user_\" + genre)"
   ]
  },
  {
   "cell_type": "code",
   "execution_count": 81,
   "id": "88247131b4bc7916",
   "metadata": {
    "collapsed": false,
    "ExecuteTime": {
     "end_time": "2023-12-04T18:08:15.119234Z",
     "start_time": "2023-12-04T18:07:42.782598800Z"
    }
   },
   "outputs": [
    {
     "name": "stderr",
     "output_type": "stream",
     "text": [
      "[Stage 999:===>                                                  (13 + 2) / 200]\r"
     ]
    },
    {
     "name": "stdout",
     "output_type": "stream",
     "text": [
      "+------+------------------+-----------------+------------------+-----------------+------------------+------------------+------------------+-----------------+------------------+------------------+------------------+------------------+-----------------------+------------------+------------------+------------------+------------------+------------------+------------------+------------------+-------------------+\n",
      "|userId|        user_Crime|     user_Romance|     user_Thriller|   user_Adventure|        user_Drama|          user_War|  user_Documentary|     user_Fantasy|      user_Mystery|      user_Musical|    user_Animation|    user_Film-Noir|user_(no genres listed)|         user_IMAX|       user_Horror|      user_Western|       user_Comedy|     user_Children|       user_Action|       user_Sci-Fi|user_average_rating|\n",
      "+------+------------------+-----------------+------------------+-----------------+------------------+------------------+------------------+-----------------+------------------+------------------+------------------+------------------+-----------------------+------------------+------------------+------------------+------------------+------------------+------------------+------------------+-------------------+\n",
      "|   148| 4.205882352941177|4.023809523809524| 4.162162162162162|4.089285714285714|            4.1375|            4.3125|              4.25|4.066666666666666| 4.222222222222222|3.8333333333333335|3.9285714285714284| 4.222222222222222|      4.128787878787879|3.9285714285714284|              4.25| 4.214285714285714|              3.95| 3.857142857142857|          4.109375|           4.03125|  4.128787878787879|\n",
      "|   463| 4.333333333333333|             3.75|               4.2|              4.5|               5.0|3.9047619047619047|3.9047619047619047|              3.0|               4.0|               2.0|3.9047619047619047|3.9047619047619047|     3.9047619047619047|3.9047619047619047|               4.0|3.9047619047619047|               3.4|               2.0|               4.4|               4.2| 3.9047619047619047|\n",
      "|   471|              3.75|4.142857142857143|               4.0|4.166666666666667| 4.071428571428571| 4.166666666666667| 4.051282051282051|4.136363636363637|               5.0|               4.0|               4.0| 4.051282051282051|      4.051282051282051| 4.035714285714286|               4.0| 4.051282051282051|3.9615384615384617|               4.0|           3.90625|3.9444444444444446|  4.051282051282051|\n",
      "|   496|               3.5|4.357142857142857|               4.5|              4.5|4.2105263157894735|3.8870967741935485|3.8870967741935485|            3.125|3.8870967741935485| 4.555555555555555|               5.0|3.8870967741935485|     3.8870967741935485|               3.0|               0.5|3.8870967741935485|3.7142857142857144|              4.25|             2.875| 4.333333333333333| 3.8870967741935485|\n",
      "|   833|3.7941176470588234|3.293103448275862|3.2794117647058822|3.507936507936508|3.4754098360655736|3.5833333333333335|               4.0|              3.0|3.4615384615384617|             3.125|3.9107142857142856|               3.5|     3.4778481012658227|3.1785714285714284|3.6538461538461537|               3.5| 3.638888888888889|3.9038461538461537|3.4583333333333335| 3.357142857142857| 3.4778481012658227|\n",
      "+------+------------------+-----------------+------------------+-----------------+------------------+------------------+------------------+-----------------+------------------+------------------+------------------+------------------+-----------------------+------------------+------------------+------------------+------------------+------------------+------------------+------------------+-------------------+\n"
     ]
    },
    {
     "name": "stderr",
     "output_type": "stream",
     "text": [
      "                                                                                \r"
     ]
    }
   ],
   "source": [
    "user_genre_ratings.show(5)"
   ]
  },
  {
   "cell_type": "code",
   "execution_count": 82,
   "id": "d615aba6d9bea4ad",
   "metadata": {
    "collapsed": false,
    "ExecuteTime": {
     "end_time": "2023-12-04T18:08:15.195940400Z",
     "start_time": "2023-12-04T18:08:15.124841200Z"
    }
   },
   "outputs": [],
   "source": [
    "from pyspark.sql.functions import col, when, avg, max, min\n",
    "# 计算每个用户的最高分和最低分\n",
    "user_max_min_ratings = big_df.groupBy(\"userId\").agg(\n",
    "    max(\"rating\").alias(\"user_max\"),\n",
    "    min(\"rating\").alias(\"user_min\")\n",
    ")"
   ]
  },
  {
   "cell_type": "code",
   "execution_count": 83,
   "id": "6ec6f6e287646dfa",
   "metadata": {
    "collapsed": false,
    "ExecuteTime": {
     "end_time": "2023-12-04T18:08:43.049967500Z",
     "start_time": "2023-12-04T18:08:15.148133500Z"
    }
   },
   "outputs": [
    {
     "name": "stderr",
     "output_type": "stream",
     "text": [
      "[Stage 1013:==================>                                  (71 + 2) / 200]\r"
     ]
    },
    {
     "name": "stdout",
     "output_type": "stream",
     "text": [
      "+------+--------+--------+\n",
      "|userId|user_max|user_min|\n",
      "+------+--------+--------+\n",
      "|   148|     5.0|     3.0|\n",
      "|   463|     5.0|     1.0|\n",
      "|   471|     5.0|     3.0|\n",
      "|   496|     5.0|     0.5|\n",
      "|   833|     5.0|     0.5|\n",
      "+------+--------+--------+\n"
     ]
    },
    {
     "name": "stderr",
     "output_type": "stream",
     "text": [
      "                                                                                \r"
     ]
    }
   ],
   "source": [
    "user_max_min_ratings.show(5)"
   ]
  },
  {
   "cell_type": "markdown",
   "id": "e32cdc0106ad5bee",
   "metadata": {
    "collapsed": false
   },
   "source": [
    "### Join feature matrix and genome_scores by movieId "
   ]
  },
  {
   "cell_type": "code",
   "execution_count": 84,
   "id": "3999eb495b2cab6e",
   "metadata": {
    "collapsed": false,
    "ExecuteTime": {
     "end_time": "2023-12-04T18:08:43.084298800Z",
     "start_time": "2023-12-04T18:08:43.052588200Z"
    }
   },
   "outputs": [],
   "source": [
    "big_df = big_df.join(average_rating_df, on=\"movieId\")"
   ]
  },
  {
   "cell_type": "code",
   "execution_count": 85,
   "id": "731bafc9cbf022f0",
   "metadata": {
    "collapsed": false,
    "ExecuteTime": {
     "end_time": "2023-12-04T18:08:43.184585300Z",
     "start_time": "2023-12-04T18:08:43.071721100Z"
    }
   },
   "outputs": [],
   "source": [
    "big_df = big_df.drop('user_average_rating')\n",
    "big_df = big_df.join(user_genre_ratings, on=\"userId\")\n",
    "big_df = big_df.join(user_max_min_ratings, on=\"userId\")\n",
    "big_df = big_df.join(movies_df, on=\"movieId\")"
   ]
  },
  {
   "cell_type": "code",
   "execution_count": 86,
   "id": "902fb1c20435c7ce",
   "metadata": {
    "collapsed": false,
    "ExecuteTime": {
     "end_time": "2023-12-04T18:10:02.949225800Z",
     "start_time": "2023-12-04T18:08:43.162943900Z"
    }
   },
   "outputs": [
    {
     "name": "stderr",
     "output_type": "stream",
     "text": [
      "[Stage 1026:>               (0 + 1) / 1][Stage 1035:=====>       (80 + 2) / 200]\r"
     ]
    },
    {
     "name": "stdout",
     "output_type": "stream",
     "text": [
      "+-------+------+------+----------+-----+-------+--------+---------+-----+---+-----------+-------+-------+-------+---------+---------+------------------+----+------+-------+------+--------+------+------+--------------------+------------------+-----------------+-----------------+-----------------+-----------------+----------+--------+----------------+-----------------+-----------------+------------------+------------------+-----------------+-----------------------+------------------+-----------+-----------------+-----------+-----------------+-----------+-----------+-------------------+--------+--------+--------------------+--------------------+\n",
      "|movieId|userId|rating| timestamp|Crime|Romance|Thriller|Adventure|Drama|War|Documentary|Fantasy|Mystery|Musical|Animation|Film-Noir|(no genres listed)|IMAX|Horror|Western|Comedy|Children|Action|Sci-Fi|movie_average_rating|movie_rating_count|       user_Crime|     user_Romance|    user_Thriller|   user_Adventure|user_Drama|user_War|user_Documentary|     user_Fantasy|     user_Mystery|      user_Musical|    user_Animation|   user_Film-Noir|user_(no genres listed)|         user_IMAX|user_Horror|     user_Western|user_Comedy|    user_Children|user_Action|user_Sci-Fi|user_average_rating|user_max|user_min|               title|              genres|\n",
      "+-------+------+------+----------+-----+-------+--------+---------+-----+---+-----------+-------+-------+-------+---------+---------+------------------+----+------+-------+------+--------+------+------+--------------------+------------------+-----------------+-----------------+-----------------+-----------------+----------+--------+----------------+-----------------+-----------------+------------------+------------------+-----------------+-----------------------+------------------+-----------+-----------------+-----------+-----------------+-----------+-----------+-------------------+--------+--------+--------------------+--------------------+\n",
      "|    858|   148|   4.5|1454942522|    1|      0|       0|        0|    1|  0|          0|      0|      0|      0|        0|        0|                 0|   0|     0|      0|     0|       0|     0|     0|   4.324336165187245|             52498|4.205882352941177|4.023809523809524|4.162162162162162|4.089285714285714|    4.1375|  4.3125|            4.25|4.066666666666666|4.222222222222222|3.8333333333333335|3.9285714285714284|4.222222222222222|      4.128787878787879|3.9285714285714284|       4.25|4.214285714285714|       3.95|3.857142857142857|   4.109375|    4.03125|  4.128787878787879|     5.0|     3.0|Godfather, The (1...|         Crime|Drama|\n",
      "|   3089|   148|   4.0|1454943202|    0|      0|       0|        0|    1|  0|          0|      0|      0|      0|        0|        0|                 0|   0|     0|      0|     0|       0|     0|     0|   4.115057915057915|              3885|4.205882352941177|4.023809523809524|4.162162162162162|4.089285714285714|    4.1375|  4.3125|            4.25|4.066666666666666|4.222222222222222|3.8333333333333335|3.9285714285714284|4.222222222222222|      4.128787878787879|3.9285714285714284|       4.25|4.214285714285714|       3.95|3.857142857142857|   4.109375|    4.03125|  4.128787878787879|     5.0|     3.0|Bicycle Thieves (...|               Drama|\n",
      "|    296|   148|   5.0|1454942620|    1|      0|       1|        0|    1|  0|          0|      0|      0|      0|        0|        0|                 0|   0|     0|      0|     1|       0|     0|     0|   4.188912039361382|             79672|4.205882352941177|4.023809523809524|4.162162162162162|4.089285714285714|    4.1375|  4.3125|            4.25|4.066666666666666|4.222222222222222|3.8333333333333335|3.9285714285714284|4.222222222222222|      4.128787878787879|3.9285714285714284|       4.25|4.214285714285714|       3.95|3.857142857142857|   4.109375|    4.03125|  4.128787878787879|     5.0|     3.0| Pulp Fiction (1994)|Comedy|Crime|Dram...|\n",
      "|  58559|   148|   4.0|1454942528|    1|      0|       0|        0|    1|  0|          0|      0|      0|      0|        0|        0|                 0|   1|     0|      0|     0|       0|     1|     0|   4.166538211421277|             41519|4.205882352941177|4.023809523809524|4.162162162162162|4.089285714285714|    4.1375|  4.3125|            4.25|4.066666666666666|4.222222222222222|3.8333333333333335|3.9285714285714284|4.222222222222222|      4.128787878787879|3.9285714285714284|       4.25|4.214285714285714|       3.95|3.857142857142857|   4.109375|    4.03125|  4.128787878787879|     5.0|     3.0|Dark Knight, The ...|Action|Crime|Dram...|\n",
      "|   1198|   148|   4.0|1454942531|    0|      0|       0|        1|    0|  0|          0|      0|      0|      0|        0|        0|                 0|   0|     0|      0|     0|       0|     1|     0|   4.123923182441701|             54675|4.205882352941177|4.023809523809524|4.162162162162162|4.089285714285714|    4.1375|  4.3125|            4.25|4.066666666666666|4.222222222222222|3.8333333333333335|3.9285714285714284|4.222222222222222|      4.128787878787879|3.9285714285714284|       4.25|4.214285714285714|       3.95|3.857142857142857|   4.109375|    4.03125|  4.128787878787879|     5.0|     3.0|Raiders of the Lo...|    Action|Adventure|\n",
      "+-------+------+------+----------+-----+-------+--------+---------+-----+---+-----------+-------+-------+-------+---------+---------+------------------+----+------+-------+------+--------+------+------+--------------------+------------------+-----------------+-----------------+-----------------+-----------------+----------+--------+----------------+-----------------+-----------------+------------------+------------------+-----------------+-----------------------+------------------+-----------+-----------------+-----------+-----------------+-----------+-----------+-------------------+--------+--------+--------------------+--------------------+\n"
     ]
    },
    {
     "name": "stderr",
     "output_type": "stream",
     "text": [
      "                                                                                \r"
     ]
    }
   ],
   "source": [
    "big_df.show(5)"
   ]
  },
  {
   "cell_type": "code",
   "execution_count": 87,
   "id": "74c3739957806be9",
   "metadata": {
    "collapsed": false,
    "ExecuteTime": {
     "end_time": "2023-12-04T18:10:02.978013Z",
     "start_time": "2023-12-04T18:10:02.946007400Z"
    }
   },
   "outputs": [
    {
     "name": "stdout",
     "output_type": "stream",
     "text": [
      "Time used for data pre-process: 237.48256659507751\n"
     ]
    }
   ],
   "source": [
    "data_pre_process_end_time = time.time()\n",
    "print(\"Time used for data pre-process: {}\".format(data_pre_process_end_time - data_pre_process_start_time))"
   ]
  },
  {
   "cell_type": "code",
   "execution_count": 88,
   "id": "a1977b2a71c42978",
   "metadata": {
    "collapsed": false,
    "ExecuteTime": {
     "end_time": "2023-12-04T18:10:02.978013Z",
     "start_time": "2023-12-04T18:10:02.960307100Z"
    }
   },
   "outputs": [],
   "source": [
    "# # Data Alignment Using another way of vectorizing\n",
    "# big_df = big_df.join(genre_df, on=\"movieId\")\n",
    "# big_df = big_df.join(user_average_ratings, on=\"userId\")\n",
    "# big_df = big_df.join(average_rating_df, on=\"movieId\")"
   ]
  },
  {
   "cell_type": "markdown",
   "id": "be7c02741ce11e15",
   "metadata": {
    "collapsed": false
   },
   "source": [
    "# Using ML model to predict"
   ]
  },
  {
   "cell_type": "markdown",
   "id": "d1f2d3548aac2bc6",
   "metadata": {
    "collapsed": false
   },
   "source": [
    "### Use Linear Regression to predict"
   ]
  },
  {
   "cell_type": "code",
   "execution_count": 89,
   "id": "38bc86cd8eee3398",
   "metadata": {
    "collapsed": false,
    "ExecuteTime": {
     "end_time": "2023-12-04T18:10:03.039402500Z",
     "start_time": "2023-12-04T18:10:02.972295800Z"
    }
   },
   "outputs": [],
   "source": [
    "(train_data, test_data) = big_df.randomSplit([0.7, 0.3], seed=5021)"
   ]
  },
  {
   "cell_type": "code",
   "execution_count": 90,
   "id": "432d3462ef9c9a2e",
   "metadata": {
    "collapsed": false,
    "ExecuteTime": {
     "end_time": "2023-12-04T18:10:03.039402500Z",
     "start_time": "2023-12-04T18:10:02.993595500Z"
    }
   },
   "outputs": [
    {
     "data": {
      "text/plain": "['Crime',\n 'Romance',\n 'Thriller',\n 'Adventure',\n 'Drama',\n 'War',\n 'Documentary',\n 'Fantasy',\n 'Mystery',\n 'Musical',\n 'Animation',\n 'Film-Noir',\n '(no genres listed)',\n 'IMAX',\n 'Horror',\n 'Western',\n 'Comedy',\n 'Children',\n 'Action',\n 'Sci-Fi',\n 'movie_average_rating',\n 'movie_rating_count',\n 'user_Crime',\n 'user_Romance',\n 'user_Thriller',\n 'user_Adventure',\n 'user_Drama',\n 'user_War',\n 'user_Documentary',\n 'user_Fantasy',\n 'user_Mystery',\n 'user_Musical',\n 'user_Animation',\n 'user_Film-Noir',\n 'user_(no genres listed)',\n 'user_IMAX',\n 'user_Horror',\n 'user_Western',\n 'user_Comedy',\n 'user_Children',\n 'user_Action',\n 'user_Sci-Fi',\n 'user_average_rating',\n 'user_max',\n 'user_min']"
     },
     "execution_count": 90,
     "metadata": {},
     "output_type": "execute_result"
    }
   ],
   "source": [
    "lr_final_start_time = time.time()\n",
    "# Assuming movies_df and users_df are your DataFrames for movies and users\n",
    "# Join them with the rating data and perform feature transformations\n",
    "input_cols = big_df.columns\n",
    "to_remove = [\"rating\", \"userId\", \"movieId\", \"timestamp\", \"title\", \"genres\"]\n",
    "# to_remove = [\"rating\", \"timestamp\", \"title\", \"genres\"]\n",
    "for col in to_remove:\n",
    "    if col in input_cols:\n",
    "        input_cols.remove(col)\n",
    "input_cols"
   ]
  },
  {
   "cell_type": "code",
   "execution_count": 91,
   "id": "fa8f5cd5177b524b",
   "metadata": {
    "collapsed": false,
    "ExecuteTime": {
     "end_time": "2023-12-04T18:16:32.178864800Z",
     "start_time": "2023-12-04T18:10:03.001510900Z"
    }
   },
   "outputs": [
    {
     "name": "stderr",
     "output_type": "stream",
     "text": [
      "                                                                                \r"
     ]
    }
   ],
   "source": [
    "vector_assembler = VectorAssembler(inputCols=input_cols, outputCol=\"features\")\n",
    "\n",
    "lr = LinearRegression(featuresCol=\"features\", labelCol=\"rating\", regParam=0.1)\n",
    "\n",
    "# Pipeline\n",
    "pipeline = Pipeline(stages=[vector_assembler, lr])\n",
    "lr_model = pipeline.fit(train_data)\n",
    "\n",
    "# predictions\n",
    "lr_predictions = lr_model.transform(test_data)"
   ]
  },
  {
   "cell_type": "code",
   "execution_count": 92,
   "id": "74487d34e128d4c9",
   "metadata": {
    "collapsed": false,
    "ExecuteTime": {
     "end_time": "2023-12-04T18:20:28.688566400Z",
     "start_time": "2023-12-04T18:16:32.176275600Z"
    }
   },
   "outputs": [
    {
     "name": "stderr",
     "output_type": "stream",
     "text": [
      "                                                                                \r"
     ]
    },
    {
     "name": "stdout",
     "output_type": "stream",
     "text": [
      "RMSE: 0.865145953599929\n"
     ]
    },
    {
     "name": "stderr",
     "output_type": "stream",
     "text": [
      "[Stage 1143:===========>(199 + 1) / 200][Stage 1153:==>          (34 + 2) / 200]\r"
     ]
    },
    {
     "name": "stdout",
     "output_type": "stream",
     "text": [
      "R2: 0.33508251480258344\n",
      "Time used for Linear Regression: 625.677747964859\n"
     ]
    },
    {
     "name": "stderr",
     "output_type": "stream",
     "text": [
      "                                                                                \r"
     ]
    }
   ],
   "source": [
    "# evaluations\n",
    "evaluator = RegressionEvaluator(predictionCol=\"prediction\", labelCol=\"rating\", metricName=\"rmse\")\n",
    "test_eval = evaluator.evaluate(lr_predictions)\n",
    "print(\"RMSE: {}\".format(test_eval))\n",
    "evaluator = RegressionEvaluator(predictionCol=\"prediction\", labelCol=\"rating\", metricName=\"r2\")\n",
    "test_eval = evaluator.evaluate(lr_predictions)\n",
    "print(\"R2: {}\".format(test_eval))\n",
    "lr_final_end_time = time.time()\n",
    "print(\"Time used for Linear Regression: {}\".format(lr_final_end_time - lr_final_start_time))"
   ]
  },
  {
   "cell_type": "markdown",
   "id": "c216337b0fe5e0b1",
   "metadata": {
    "collapsed": false
   },
   "source": [
    "### Use random forest to predict"
   ]
  },
  {
   "cell_type": "code",
   "execution_count": 93,
   "id": "265395bca3110144",
   "metadata": {
    "collapsed": false,
    "ExecuteTime": {
     "end_time": "2023-12-04T18:26:39.933402100Z",
     "start_time": "2023-12-04T18:20:28.699703500Z"
    }
   },
   "outputs": [
    {
     "name": "stderr",
     "output_type": "stream",
     "text": [
      "                                                                                \r"
     ]
    }
   ],
   "source": [
    "from pyspark.ml.feature import VectorAssembler\n",
    "from pyspark.ml.regression import RandomForestRegressor\n",
    "\n",
    "\n",
    "rf_start_time = time.time()\n",
    "assembler = VectorAssembler(inputCols=input_cols, outputCol=\"features\")\n",
    "rf = RandomForestRegressor(featuresCol=\"features\", labelCol=\"rating\")\n",
    "\n",
    "# 创建管道\n",
    "pipeline = Pipeline(stages=[assembler, rf])\n",
    "\n",
    "# 训练模型\n",
    "model = pipeline.fit(train_data)\n",
    "# 预测\n",
    "predictions = model.transform(test_data)"
   ]
  },
  {
   "cell_type": "code",
   "execution_count": 94,
   "id": "fbdb62aabe32668",
   "metadata": {
    "collapsed": false,
    "ExecuteTime": {
     "end_time": "2023-12-04T18:30:21.929662700Z",
     "start_time": "2023-12-04T18:26:39.939857700Z"
    }
   },
   "outputs": [
    {
     "name": "stderr",
     "output_type": "stream",
     "text": [
      "                                                                                \r"
     ]
    },
    {
     "name": "stdout",
     "output_type": "stream",
     "text": [
      "RMSE: 0.8783868647840285\n"
     ]
    },
    {
     "name": "stderr",
     "output_type": "stream",
     "text": [
      "[Stage 1260:===================================================>(198 + 2) / 200]\r"
     ]
    },
    {
     "name": "stdout",
     "output_type": "stream",
     "text": [
      "R2: 0.31457386870496185\n",
      "Time used for Random Forest: 593.2066202163696\n"
     ]
    },
    {
     "name": "stderr",
     "output_type": "stream",
     "text": [
      "                                                                                \r"
     ]
    }
   ],
   "source": [
    "# evaluations\n",
    "evaluator = RegressionEvaluator(predictionCol=\"prediction\", labelCol=\"rating\", metricName=\"rmse\")\n",
    "test_eval = evaluator.evaluate(predictions)\n",
    "print(\"RMSE: {}\".format(test_eval))\n",
    "evaluator = RegressionEvaluator(predictionCol=\"prediction\", labelCol=\"rating\", metricName=\"r2\")\n",
    "test_eval = evaluator.evaluate(predictions)\n",
    "print(\"R2: {}\".format(test_eval))\n",
    "rf_end_time = time.time()\n",
    "print(\"Time used for Random Forest: {}\".format(rf_end_time - rf_start_time))"
   ]
  },
  {
   "cell_type": "markdown",
   "id": "a475c81bdb0a628a",
   "metadata": {
    "collapsed": false
   },
   "source": [
    "### Use GBT to predict"
   ]
  },
  {
   "cell_type": "code",
   "execution_count": 95,
   "id": "7564328ce349ad1d",
   "metadata": {
    "collapsed": false,
    "ExecuteTime": {
     "end_time": "2023-12-04T18:42:02.850954800Z",
     "start_time": "2023-12-04T18:30:21.926504Z"
    }
   },
   "outputs": [
    {
     "name": "stderr",
     "output_type": "stream",
     "text": [
      "                                                                                \r"
     ]
    }
   ],
   "source": [
    "from pyspark.ml.regression import GBTRegressor\n",
    "\n",
    "GBT_start_time = time.time()\n",
    "gbt = GBTRegressor(featuresCol=\"features\", labelCol=\"rating\", maxIter=10)\n",
    "pipeline = Pipeline(stages=[assembler, gbt])\n",
    "model = pipeline.fit(train_data)\n",
    "predictions = model.transform(test_data)"
   ]
  },
  {
   "cell_type": "code",
   "execution_count": 96,
   "id": "c0f4a75b51f71c9",
   "metadata": {
    "collapsed": false,
    "ExecuteTime": {
     "end_time": "2023-12-04T18:45:36.309894300Z",
     "start_time": "2023-12-04T18:42:02.854591100Z"
    }
   },
   "outputs": [
    {
     "name": "stderr",
     "output_type": "stream",
     "text": [
      "                                                                                \r"
     ]
    },
    {
     "name": "stdout",
     "output_type": "stream",
     "text": [
      "RMSE: 0.8606252044691601\n"
     ]
    },
    {
     "name": "stderr",
     "output_type": "stream",
     "text": [
      "[Stage 1820:===================================================>(199 + 1) / 200]\r"
     ]
    },
    {
     "name": "stdout",
     "output_type": "stream",
     "text": [
      "R2: 0.34201330266161756\n",
      "Time used for GBT: 914.3847703933716\n"
     ]
    },
    {
     "name": "stderr",
     "output_type": "stream",
     "text": [
      "                                                                                \r"
     ]
    }
   ],
   "source": [
    "# evaluations\n",
    "evaluator = RegressionEvaluator(predictionCol=\"prediction\", labelCol=\"rating\", metricName=\"rmse\")\n",
    "test_eval = evaluator.evaluate(predictions)\n",
    "print(\"RMSE: {}\".format(test_eval))\n",
    "evaluator = RegressionEvaluator(predictionCol=\"prediction\", labelCol=\"rating\", metricName=\"r2\")\n",
    "test_eval = evaluator.evaluate(predictions)\n",
    "print(\"R2: {}\".format(test_eval))\n",
    "GBT_end_time = time.time()\n",
    "print(\"Time used for GBT: {}\".format(GBT_end_time - GBT_start_time))"
   ]
  },
  {
   "cell_type": "markdown",
   "id": "da6d431e2c073453",
   "metadata": {
    "collapsed": false
   },
   "source": [
    "### Use ALS to predict again (with genre and title)"
   ]
  },
  {
   "cell_type": "code",
   "execution_count": 97,
   "id": "c7544a6f0eb4831",
   "metadata": {
    "collapsed": false,
    "ExecuteTime": {
     "end_time": "2023-12-04T18:45:36.319210500Z",
     "start_time": "2023-12-04T18:45:36.309894300Z"
    }
   },
   "outputs": [],
   "source": [
    "# als = ALS(maxIter=5, regParam=0.01, userCol=\"userId\", itemCol=\"movieId\", ratingCol=\"rating\", coldStartStrategy=\"drop\")\n",
    "# als_model = als.fit(train_data)\n",
    "# # Predictions\n",
    "# predictions = als_model.transform(test_data)"
   ]
  },
  {
   "cell_type": "code",
   "execution_count": 98,
   "id": "5d3916d3c374c8ce",
   "metadata": {
    "collapsed": false,
    "ExecuteTime": {
     "end_time": "2023-12-04T18:45:36.337872500Z",
     "start_time": "2023-12-04T18:45:36.319745700Z"
    }
   },
   "outputs": [],
   "source": [
    "# # evaluations\n",
    "# evaluator = RegressionEvaluator(predictionCol=\"prediction\", labelCol=\"rating\", metricName=\"rmse\")\n",
    "# test_eval = evaluator.evaluate(predictions)\n",
    "# print(\"RMSE: {}\".format(test_eval))\n",
    "# evaluator = RegressionEvaluator(predictionCol=\"prediction\", labelCol=\"rating\", metricName=\"r2\")\n",
    "# test_eval = evaluator.evaluate(predictions)\n",
    "# print(\"R2: {}\".format(test_eval))"
   ]
  }
 ],
 "metadata": {
  "kernelspec": {
   "display_name": "Python 3",
   "language": "python",
   "name": "python3"
  },
  "language_info": {
   "codemirror_mode": {
    "name": "ipython",
    "version": 2
   },
   "file_extension": ".py",
   "mimetype": "text/x-python",
   "name": "python",
   "nbconvert_exporter": "python",
   "pygments_lexer": "ipython2",
   "version": "2.7.6"
  }
 },
 "nbformat": 4,
 "nbformat_minor": 5
}
