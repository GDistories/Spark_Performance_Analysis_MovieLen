{
 "cells": [
  {
   "cell_type": "code",
   "execution_count": 1,
   "id": "initial_id",
   "metadata": {
    "collapsed": true,
    "ExecuteTime": {
     "end_time": "2023-12-03T14:26:36.296577800Z",
     "start_time": "2023-12-03T14:26:34.171258100Z"
    }
   },
   "outputs": [],
   "source": [
    "import pandas as pd\n",
    "import numpy as np\n",
    "from tqdm import tqdm\n",
    "from scipy import sparse\n",
    "import matplotlib.pyplot as plt\n",
    "import sklearn"
   ]
  },
  {
   "cell_type": "code",
   "execution_count": 2,
   "outputs": [],
   "source": [
    "file_root = 'D:/Datasets/ml-25m/'\n",
    "ratings_df = pd.read_csv(file_root + 'ratings.csv')\n",
    "movies_df = pd.read_csv(file_root + 'movies.csv')\n",
    "genome_scores_df = pd.read_csv(file_root + 'genome-scores.csv')"
   ],
   "metadata": {
    "collapsed": false,
    "ExecuteTime": {
     "end_time": "2023-12-03T14:26:43.959184700Z",
     "start_time": "2023-12-03T14:26:36.292067900Z"
    }
   },
   "id": "a5c8a31ae243987"
  },
  {
   "cell_type": "markdown",
   "source": [
    "## 电影特征处理\n",
    "将电影本身所属的类型作为电影特征，没被打过分的电影用平均评分填充\n",
    "再将movie_id处理成二进制编码"
   ],
   "metadata": {
    "collapsed": false
   },
   "id": "2c04dc75d4b56f89"
  },
  {
   "cell_type": "code",
   "execution_count": 3,
   "outputs": [
    {
     "data": {
      "text/plain": "   movieId                               title  \\\n0        1                    Toy Story (1995)   \n1        2                      Jumanji (1995)   \n2        3             Grumpier Old Men (1995)   \n3        4            Waiting to Exhale (1995)   \n4        5  Father of the Bride Part II (1995)   \n\n                                        genres  (no genres listed)  Action  \\\n0  Adventure|Animation|Children|Comedy|Fantasy                   0       0   \n1                   Adventure|Children|Fantasy                   0       0   \n2                               Comedy|Romance                   0       0   \n3                         Comedy|Drama|Romance                   0       0   \n4                                       Comedy                   0       0   \n\n   Adventure  Animation  Children  Comedy  Crime  ...  Film-Noir  Horror  \\\n0          1          1         1       1      0  ...          0       0   \n1          1          0         1       0      0  ...          0       0   \n2          0          0         0       1      0  ...          0       0   \n3          0          0         0       1      0  ...          0       0   \n4          0          0         0       1      0  ...          0       0   \n\n   IMAX  Musical  Mystery  Romance  Sci-Fi  Thriller  War  Western  \n0     0        0        0        0       0         0    0        0  \n1     0        0        0        0       0         0    0        0  \n2     0        0        0        1       0         0    0        0  \n3     0        0        0        1       0         0    0        0  \n4     0        0        0        0       0         0    0        0  \n\n[5 rows x 23 columns]",
      "text/html": "<div>\n<style scoped>\n    .dataframe tbody tr th:only-of-type {\n        vertical-align: middle;\n    }\n\n    .dataframe tbody tr th {\n        vertical-align: top;\n    }\n\n    .dataframe thead th {\n        text-align: right;\n    }\n</style>\n<table border=\"1\" class=\"dataframe\">\n  <thead>\n    <tr style=\"text-align: right;\">\n      <th></th>\n      <th>movieId</th>\n      <th>title</th>\n      <th>genres</th>\n      <th>(no genres listed)</th>\n      <th>Action</th>\n      <th>Adventure</th>\n      <th>Animation</th>\n      <th>Children</th>\n      <th>Comedy</th>\n      <th>Crime</th>\n      <th>...</th>\n      <th>Film-Noir</th>\n      <th>Horror</th>\n      <th>IMAX</th>\n      <th>Musical</th>\n      <th>Mystery</th>\n      <th>Romance</th>\n      <th>Sci-Fi</th>\n      <th>Thriller</th>\n      <th>War</th>\n      <th>Western</th>\n    </tr>\n  </thead>\n  <tbody>\n    <tr>\n      <th>0</th>\n      <td>1</td>\n      <td>Toy Story (1995)</td>\n      <td>Adventure|Animation|Children|Comedy|Fantasy</td>\n      <td>0</td>\n      <td>0</td>\n      <td>1</td>\n      <td>1</td>\n      <td>1</td>\n      <td>1</td>\n      <td>0</td>\n      <td>...</td>\n      <td>0</td>\n      <td>0</td>\n      <td>0</td>\n      <td>0</td>\n      <td>0</td>\n      <td>0</td>\n      <td>0</td>\n      <td>0</td>\n      <td>0</td>\n      <td>0</td>\n    </tr>\n    <tr>\n      <th>1</th>\n      <td>2</td>\n      <td>Jumanji (1995)</td>\n      <td>Adventure|Children|Fantasy</td>\n      <td>0</td>\n      <td>0</td>\n      <td>1</td>\n      <td>0</td>\n      <td>1</td>\n      <td>0</td>\n      <td>0</td>\n      <td>...</td>\n      <td>0</td>\n      <td>0</td>\n      <td>0</td>\n      <td>0</td>\n      <td>0</td>\n      <td>0</td>\n      <td>0</td>\n      <td>0</td>\n      <td>0</td>\n      <td>0</td>\n    </tr>\n    <tr>\n      <th>2</th>\n      <td>3</td>\n      <td>Grumpier Old Men (1995)</td>\n      <td>Comedy|Romance</td>\n      <td>0</td>\n      <td>0</td>\n      <td>0</td>\n      <td>0</td>\n      <td>0</td>\n      <td>1</td>\n      <td>0</td>\n      <td>...</td>\n      <td>0</td>\n      <td>0</td>\n      <td>0</td>\n      <td>0</td>\n      <td>0</td>\n      <td>1</td>\n      <td>0</td>\n      <td>0</td>\n      <td>0</td>\n      <td>0</td>\n    </tr>\n    <tr>\n      <th>3</th>\n      <td>4</td>\n      <td>Waiting to Exhale (1995)</td>\n      <td>Comedy|Drama|Romance</td>\n      <td>0</td>\n      <td>0</td>\n      <td>0</td>\n      <td>0</td>\n      <td>0</td>\n      <td>1</td>\n      <td>0</td>\n      <td>...</td>\n      <td>0</td>\n      <td>0</td>\n      <td>0</td>\n      <td>0</td>\n      <td>0</td>\n      <td>1</td>\n      <td>0</td>\n      <td>0</td>\n      <td>0</td>\n      <td>0</td>\n    </tr>\n    <tr>\n      <th>4</th>\n      <td>5</td>\n      <td>Father of the Bride Part II (1995)</td>\n      <td>Comedy</td>\n      <td>0</td>\n      <td>0</td>\n      <td>0</td>\n      <td>0</td>\n      <td>0</td>\n      <td>1</td>\n      <td>0</td>\n      <td>...</td>\n      <td>0</td>\n      <td>0</td>\n      <td>0</td>\n      <td>0</td>\n      <td>0</td>\n      <td>0</td>\n      <td>0</td>\n      <td>0</td>\n      <td>0</td>\n      <td>0</td>\n    </tr>\n  </tbody>\n</table>\n<p>5 rows × 23 columns</p>\n</div>"
     },
     "execution_count": 3,
     "metadata": {},
     "output_type": "execute_result"
    }
   ],
   "source": [
    "# movie feature extraction\n",
    "# 对 'genres' 列进行 One-Hot 编码\n",
    "genres_one_hot = movies_df['genres'].str.get_dummies(sep='|')\n",
    "\n",
    "# 合并编码到一个列中\n",
    "movies_df = pd.concat([movies_df, genres_one_hot], axis=1)\n",
    "# \n",
    "\n",
    "movies_df.head(5)"
   ],
   "metadata": {
    "collapsed": false,
    "ExecuteTime": {
     "end_time": "2023-12-03T14:26:44.273452300Z",
     "start_time": "2023-12-03T14:26:43.967689600Z"
    }
   },
   "id": "509586c270e990be"
  },
  {
   "cell_type": "code",
   "execution_count": 4,
   "outputs": [
    {
     "data": {
      "text/plain": "         movie_average_rating\nmovieId                      \n1                    3.893708\n2                    3.251527\n3                    3.142028\n4                    2.853547\n5                    3.058434",
      "text/html": "<div>\n<style scoped>\n    .dataframe tbody tr th:only-of-type {\n        vertical-align: middle;\n    }\n\n    .dataframe tbody tr th {\n        vertical-align: top;\n    }\n\n    .dataframe thead th {\n        text-align: right;\n    }\n</style>\n<table border=\"1\" class=\"dataframe\">\n  <thead>\n    <tr style=\"text-align: right;\">\n      <th></th>\n      <th>movie_average_rating</th>\n    </tr>\n    <tr>\n      <th>movieId</th>\n      <th></th>\n    </tr>\n  </thead>\n  <tbody>\n    <tr>\n      <th>1</th>\n      <td>3.893708</td>\n    </tr>\n    <tr>\n      <th>2</th>\n      <td>3.251527</td>\n    </tr>\n    <tr>\n      <th>3</th>\n      <td>3.142028</td>\n    </tr>\n    <tr>\n      <th>4</th>\n      <td>2.853547</td>\n    </tr>\n    <tr>\n      <th>5</th>\n      <td>3.058434</td>\n    </tr>\n  </tbody>\n</table>\n</div>"
     },
     "execution_count": 4,
     "metadata": {},
     "output_type": "execute_result"
    }
   ],
   "source": [
    "# 求movies_df中所有电影的平均评分\n",
    "average_rating_df = ratings_df[['movieId', 'rating']].groupby('movieId').mean()\n",
    "average_rating_df.columns = ['movie_average_rating']\n",
    "# 用均分填补没有打分的电影\n",
    "average_rating_df['movie_average_rating'] = average_rating_df['movie_average_rating'].fillna(average_rating_df['movie_average_rating'].mean())\n",
    "average_rating_df.head(5)"
   ],
   "metadata": {
    "collapsed": false,
    "ExecuteTime": {
     "end_time": "2023-12-03T14:26:44.808441Z",
     "start_time": "2023-12-03T14:26:44.276450100Z"
    }
   },
   "id": "48928983de9be381"
  },
  {
   "cell_type": "code",
   "execution_count": 5,
   "outputs": [],
   "source": [
    "# Join movie data and average ratings\n",
    "movies_df = movies_df.merge(average_rating_df, on='movieId', how='left')"
   ],
   "metadata": {
    "collapsed": false,
    "ExecuteTime": {
     "end_time": "2023-12-03T14:26:44.882175100Z",
     "start_time": "2023-12-03T14:26:44.806441Z"
    }
   },
   "id": "bba5f75d0391d3be"
  },
  {
   "cell_type": "code",
   "execution_count": 6,
   "outputs": [],
   "source": [
    "# 将Movie_id处理成二进制编码\n",
    "def convert_to_binary_vector(id_in, max_length):\n",
    "    binary_representation = format(id_in, 'b')  # 将数字转换为二进制字符串\n",
    "    binary_vector = [int(digit) for digit in binary_representation]  # 将字符串转换为数字列表\n",
    "    # 如果长度不足，用0填充\n",
    "    return [0] * (max_length - len(binary_vector)) + binary_vector\n",
    "\n",
    "# 确定所需的二进制长度\n",
    "max_length = len(format(movies_df['movieId'].max(), 'b'))\n",
    "\n",
    "tqdm.pandas()\n",
    "# 应用转换\n",
    "binary_movie_id_df = pd.DataFrame(movies_df['movieId'].apply(lambda x: convert_to_binary_vector(x, max_length)).tolist())\n",
    "# 为新列命名\n",
    "binary_movie_id_df.columns = [f'binary_MovieId_{i}' for i in range(max_length)]\n",
    "# 将新列添加到原始 DataFrame 中\n",
    "movies_df = pd.concat([movies_df, binary_movie_id_df], axis=1)"
   ],
   "metadata": {
    "collapsed": false,
    "ExecuteTime": {
     "end_time": "2023-12-03T14:26:45.182002400Z",
     "start_time": "2023-12-03T14:26:44.840460500Z"
    }
   },
   "id": "83bd9644a4756332"
  },
  {
   "cell_type": "code",
   "execution_count": 7,
   "outputs": [
    {
     "data": {
      "text/plain": "   movieId                               title  \\\n0        1                    Toy Story (1995)   \n1        2                      Jumanji (1995)   \n2        3             Grumpier Old Men (1995)   \n3        4            Waiting to Exhale (1995)   \n4        5  Father of the Bride Part II (1995)   \n\n                                        genres  (no genres listed)  Action  \\\n0  Adventure|Animation|Children|Comedy|Fantasy                   0       0   \n1                   Adventure|Children|Fantasy                   0       0   \n2                               Comedy|Romance                   0       0   \n3                         Comedy|Drama|Romance                   0       0   \n4                                       Comedy                   0       0   \n\n   Adventure  Animation  Children  Comedy  Crime  ...  binary_MovieId_8  \\\n0          1          1         1       1      0  ...                 0   \n1          1          0         1       0      0  ...                 0   \n2          0          0         0       1      0  ...                 0   \n3          0          0         0       1      0  ...                 0   \n4          0          0         0       1      0  ...                 0   \n\n   binary_MovieId_9  binary_MovieId_10  binary_MovieId_11  binary_MovieId_12  \\\n0                 0                  0                  0                  0   \n1                 0                  0                  0                  0   \n2                 0                  0                  0                  0   \n3                 0                  0                  0                  0   \n4                 0                  0                  0                  0   \n\n   binary_MovieId_13  binary_MovieId_14  binary_MovieId_15  binary_MovieId_16  \\\n0                  0                  0                  0                  0   \n1                  0                  0                  0                  1   \n2                  0                  0                  0                  1   \n3                  0                  0                  1                  0   \n4                  0                  0                  1                  0   \n\n   binary_MovieId_17  \n0                  1  \n1                  0  \n2                  1  \n3                  0  \n4                  1  \n\n[5 rows x 42 columns]",
      "text/html": "<div>\n<style scoped>\n    .dataframe tbody tr th:only-of-type {\n        vertical-align: middle;\n    }\n\n    .dataframe tbody tr th {\n        vertical-align: top;\n    }\n\n    .dataframe thead th {\n        text-align: right;\n    }\n</style>\n<table border=\"1\" class=\"dataframe\">\n  <thead>\n    <tr style=\"text-align: right;\">\n      <th></th>\n      <th>movieId</th>\n      <th>title</th>\n      <th>genres</th>\n      <th>(no genres listed)</th>\n      <th>Action</th>\n      <th>Adventure</th>\n      <th>Animation</th>\n      <th>Children</th>\n      <th>Comedy</th>\n      <th>Crime</th>\n      <th>...</th>\n      <th>binary_MovieId_8</th>\n      <th>binary_MovieId_9</th>\n      <th>binary_MovieId_10</th>\n      <th>binary_MovieId_11</th>\n      <th>binary_MovieId_12</th>\n      <th>binary_MovieId_13</th>\n      <th>binary_MovieId_14</th>\n      <th>binary_MovieId_15</th>\n      <th>binary_MovieId_16</th>\n      <th>binary_MovieId_17</th>\n    </tr>\n  </thead>\n  <tbody>\n    <tr>\n      <th>0</th>\n      <td>1</td>\n      <td>Toy Story (1995)</td>\n      <td>Adventure|Animation|Children|Comedy|Fantasy</td>\n      <td>0</td>\n      <td>0</td>\n      <td>1</td>\n      <td>1</td>\n      <td>1</td>\n      <td>1</td>\n      <td>0</td>\n      <td>...</td>\n      <td>0</td>\n      <td>0</td>\n      <td>0</td>\n      <td>0</td>\n      <td>0</td>\n      <td>0</td>\n      <td>0</td>\n      <td>0</td>\n      <td>0</td>\n      <td>1</td>\n    </tr>\n    <tr>\n      <th>1</th>\n      <td>2</td>\n      <td>Jumanji (1995)</td>\n      <td>Adventure|Children|Fantasy</td>\n      <td>0</td>\n      <td>0</td>\n      <td>1</td>\n      <td>0</td>\n      <td>1</td>\n      <td>0</td>\n      <td>0</td>\n      <td>...</td>\n      <td>0</td>\n      <td>0</td>\n      <td>0</td>\n      <td>0</td>\n      <td>0</td>\n      <td>0</td>\n      <td>0</td>\n      <td>0</td>\n      <td>1</td>\n      <td>0</td>\n    </tr>\n    <tr>\n      <th>2</th>\n      <td>3</td>\n      <td>Grumpier Old Men (1995)</td>\n      <td>Comedy|Romance</td>\n      <td>0</td>\n      <td>0</td>\n      <td>0</td>\n      <td>0</td>\n      <td>0</td>\n      <td>1</td>\n      <td>0</td>\n      <td>...</td>\n      <td>0</td>\n      <td>0</td>\n      <td>0</td>\n      <td>0</td>\n      <td>0</td>\n      <td>0</td>\n      <td>0</td>\n      <td>0</td>\n      <td>1</td>\n      <td>1</td>\n    </tr>\n    <tr>\n      <th>3</th>\n      <td>4</td>\n      <td>Waiting to Exhale (1995)</td>\n      <td>Comedy|Drama|Romance</td>\n      <td>0</td>\n      <td>0</td>\n      <td>0</td>\n      <td>0</td>\n      <td>0</td>\n      <td>1</td>\n      <td>0</td>\n      <td>...</td>\n      <td>0</td>\n      <td>0</td>\n      <td>0</td>\n      <td>0</td>\n      <td>0</td>\n      <td>0</td>\n      <td>0</td>\n      <td>1</td>\n      <td>0</td>\n      <td>0</td>\n    </tr>\n    <tr>\n      <th>4</th>\n      <td>5</td>\n      <td>Father of the Bride Part II (1995)</td>\n      <td>Comedy</td>\n      <td>0</td>\n      <td>0</td>\n      <td>0</td>\n      <td>0</td>\n      <td>0</td>\n      <td>1</td>\n      <td>0</td>\n      <td>...</td>\n      <td>0</td>\n      <td>0</td>\n      <td>0</td>\n      <td>0</td>\n      <td>0</td>\n      <td>0</td>\n      <td>0</td>\n      <td>1</td>\n      <td>0</td>\n      <td>1</td>\n    </tr>\n  </tbody>\n</table>\n<p>5 rows × 42 columns</p>\n</div>"
     },
     "execution_count": 7,
     "metadata": {},
     "output_type": "execute_result"
    }
   ],
   "source": [
    "movies_df.head(5)"
   ],
   "metadata": {
    "collapsed": false,
    "ExecuteTime": {
     "end_time": "2023-12-03T14:26:45.184003500Z",
     "start_time": "2023-12-03T14:26:45.168002600Z"
    }
   },
   "id": "bb03da6052805caa"
  },
  {
   "cell_type": "code",
   "execution_count": 8,
   "outputs": [],
   "source": [
    "# Join user data and movie data\n",
    "big_df = ratings_df.merge(movies_df, on='movieId', how='left')"
   ],
   "metadata": {
    "collapsed": false,
    "ExecuteTime": {
     "end_time": "2023-12-03T14:26:52.661678900Z",
     "start_time": "2023-12-03T14:26:45.184003500Z"
    }
   },
   "id": "f8bb49f0b6a26336"
  },
  {
   "cell_type": "code",
   "execution_count": 9,
   "outputs": [
    {
     "data": {
      "text/plain": "   userId  movieId  rating   timestamp  \\\n0       1      296     5.0  1147880044   \n1       1      306     3.5  1147868817   \n2       1      307     5.0  1147868828   \n3       1      665     5.0  1147878820   \n4       1      899     3.5  1147868510   \n\n                                              title  \\\n0                               Pulp Fiction (1994)   \n1  Three Colors: Red (Trois couleurs: Rouge) (1994)   \n2  Three Colors: Blue (Trois couleurs: Bleu) (1993)   \n3                                Underground (1995)   \n4                        Singin' in the Rain (1952)   \n\n                        genres  (no genres listed)  Action  Adventure  \\\n0  Comedy|Crime|Drama|Thriller                   0       0          0   \n1                        Drama                   0       0          0   \n2                        Drama                   0       0          0   \n3             Comedy|Drama|War                   0       0          0   \n4       Comedy|Musical|Romance                   0       0          0   \n\n   Animation  ...  binary_MovieId_8  binary_MovieId_9  binary_MovieId_10  \\\n0          0  ...                 0                 1                  0   \n1          0  ...                 0                 1                  0   \n2          0  ...                 0                 1                  0   \n3          0  ...                 1                 0                  1   \n4          0  ...                 1                 1                  1   \n\n   binary_MovieId_11  binary_MovieId_12  binary_MovieId_13  binary_MovieId_14  \\\n0                  0                  1                  0                  1   \n1                  0                  1                  1                  0   \n2                  0                  1                  1                  0   \n3                  0                  0                  1                  1   \n4                  0                  0                  0                  0   \n\n   binary_MovieId_15  binary_MovieId_16  binary_MovieId_17  \n0                  0                  0                  0  \n1                  0                  1                  0  \n2                  0                  1                  1  \n3                  0                  0                  1  \n4                  0                  1                  1  \n\n[5 rows x 45 columns]",
      "text/html": "<div>\n<style scoped>\n    .dataframe tbody tr th:only-of-type {\n        vertical-align: middle;\n    }\n\n    .dataframe tbody tr th {\n        vertical-align: top;\n    }\n\n    .dataframe thead th {\n        text-align: right;\n    }\n</style>\n<table border=\"1\" class=\"dataframe\">\n  <thead>\n    <tr style=\"text-align: right;\">\n      <th></th>\n      <th>userId</th>\n      <th>movieId</th>\n      <th>rating</th>\n      <th>timestamp</th>\n      <th>title</th>\n      <th>genres</th>\n      <th>(no genres listed)</th>\n      <th>Action</th>\n      <th>Adventure</th>\n      <th>Animation</th>\n      <th>...</th>\n      <th>binary_MovieId_8</th>\n      <th>binary_MovieId_9</th>\n      <th>binary_MovieId_10</th>\n      <th>binary_MovieId_11</th>\n      <th>binary_MovieId_12</th>\n      <th>binary_MovieId_13</th>\n      <th>binary_MovieId_14</th>\n      <th>binary_MovieId_15</th>\n      <th>binary_MovieId_16</th>\n      <th>binary_MovieId_17</th>\n    </tr>\n  </thead>\n  <tbody>\n    <tr>\n      <th>0</th>\n      <td>1</td>\n      <td>296</td>\n      <td>5.0</td>\n      <td>1147880044</td>\n      <td>Pulp Fiction (1994)</td>\n      <td>Comedy|Crime|Drama|Thriller</td>\n      <td>0</td>\n      <td>0</td>\n      <td>0</td>\n      <td>0</td>\n      <td>...</td>\n      <td>0</td>\n      <td>1</td>\n      <td>0</td>\n      <td>0</td>\n      <td>1</td>\n      <td>0</td>\n      <td>1</td>\n      <td>0</td>\n      <td>0</td>\n      <td>0</td>\n    </tr>\n    <tr>\n      <th>1</th>\n      <td>1</td>\n      <td>306</td>\n      <td>3.5</td>\n      <td>1147868817</td>\n      <td>Three Colors: Red (Trois couleurs: Rouge) (1994)</td>\n      <td>Drama</td>\n      <td>0</td>\n      <td>0</td>\n      <td>0</td>\n      <td>0</td>\n      <td>...</td>\n      <td>0</td>\n      <td>1</td>\n      <td>0</td>\n      <td>0</td>\n      <td>1</td>\n      <td>1</td>\n      <td>0</td>\n      <td>0</td>\n      <td>1</td>\n      <td>0</td>\n    </tr>\n    <tr>\n      <th>2</th>\n      <td>1</td>\n      <td>307</td>\n      <td>5.0</td>\n      <td>1147868828</td>\n      <td>Three Colors: Blue (Trois couleurs: Bleu) (1993)</td>\n      <td>Drama</td>\n      <td>0</td>\n      <td>0</td>\n      <td>0</td>\n      <td>0</td>\n      <td>...</td>\n      <td>0</td>\n      <td>1</td>\n      <td>0</td>\n      <td>0</td>\n      <td>1</td>\n      <td>1</td>\n      <td>0</td>\n      <td>0</td>\n      <td>1</td>\n      <td>1</td>\n    </tr>\n    <tr>\n      <th>3</th>\n      <td>1</td>\n      <td>665</td>\n      <td>5.0</td>\n      <td>1147878820</td>\n      <td>Underground (1995)</td>\n      <td>Comedy|Drama|War</td>\n      <td>0</td>\n      <td>0</td>\n      <td>0</td>\n      <td>0</td>\n      <td>...</td>\n      <td>1</td>\n      <td>0</td>\n      <td>1</td>\n      <td>0</td>\n      <td>0</td>\n      <td>1</td>\n      <td>1</td>\n      <td>0</td>\n      <td>0</td>\n      <td>1</td>\n    </tr>\n    <tr>\n      <th>4</th>\n      <td>1</td>\n      <td>899</td>\n      <td>3.5</td>\n      <td>1147868510</td>\n      <td>Singin' in the Rain (1952)</td>\n      <td>Comedy|Musical|Romance</td>\n      <td>0</td>\n      <td>0</td>\n      <td>0</td>\n      <td>0</td>\n      <td>...</td>\n      <td>1</td>\n      <td>1</td>\n      <td>1</td>\n      <td>0</td>\n      <td>0</td>\n      <td>0</td>\n      <td>0</td>\n      <td>0</td>\n      <td>1</td>\n      <td>1</td>\n    </tr>\n  </tbody>\n</table>\n<p>5 rows × 45 columns</p>\n</div>"
     },
     "execution_count": 9,
     "metadata": {},
     "output_type": "execute_result"
    }
   ],
   "source": [
    "big_df.head(5)"
   ],
   "metadata": {
    "collapsed": false,
    "ExecuteTime": {
     "end_time": "2023-12-03T14:26:52.692189700Z",
     "start_time": "2023-12-03T14:26:52.660679300Z"
    }
   },
   "id": "90393fbc5124f11"
  },
  {
   "cell_type": "code",
   "execution_count": 17,
   "outputs": [],
   "source": [
    "# big_df = ratings_df.merge(movies_df[['genres', 'movieId']], on='movieId', how='left')"
   ],
   "metadata": {
    "collapsed": false,
    "ExecuteTime": {
     "end_time": "2023-12-03T14:30:36.224817200Z",
     "start_time": "2023-12-03T14:30:33.634172800Z"
    }
   },
   "id": "1ef7b1bd44c3aeb1"
  },
  {
   "cell_type": "markdown",
   "source": [
    "## 用户特征处理\n",
    "将用户对每个类型电影的平均评分作为用户特征，没打过分的电影用用户的平均评分填充\n",
    "再将user_id处理成二进制编码"
   ],
   "metadata": {
    "collapsed": false
   },
   "id": "844a1592bed7d2e6"
  },
  {
   "cell_type": "code",
   "execution_count": 18,
   "outputs": [],
   "source": [
    "# 计算每个用户的电影平均评分\n",
    "user_average_ratings = big_df.groupby('userId')['rating'].mean()\n",
    "user_average_ratings.columns = ['user_average_rating']"
   ],
   "metadata": {
    "collapsed": false,
    "ExecuteTime": {
     "end_time": "2023-12-03T14:30:38.543420900Z",
     "start_time": "2023-12-03T14:30:38.236270600Z"
    }
   },
   "id": "4e8e77db9a674649"
  },
  {
   "cell_type": "code",
   "execution_count": 19,
   "outputs": [
    {
     "name": "stderr",
     "output_type": "stream",
     "text": [
      "100%|██████████| 162541/162541 [11:56<00:00, 226.78it/s]\n"
     ]
    },
    {
     "data": {
      "text/plain": "        User_(no genres listed)  User_Action  User_Adventure  User_Animation  \\\nuserId                                                                         \n1                      3.814286     4.125000        3.727273        4.000000   \n2                      3.630435     3.696970        3.906667        3.617647   \n3                      3.500000     3.640719        3.689394        3.980000   \n4                      3.378099     3.186207        3.074561        3.467742   \n5                      3.752475     3.722222        3.857143        3.750000   \n\n        User_Children  User_Comedy  User_Crime  User_Documentary  User_Drama  \\\nuserId                                                                         \n1            3.833333     3.869565    4.062500          2.000000    3.867925   \n2            3.660000     3.317460    3.138889          3.630435    3.571429   \n3            3.708333     3.454545    3.886364          3.166667    3.890086   \n4            3.214286     3.611111    3.972973          4.100000    3.744898   \n5            3.333333     3.571429    4.142857          3.752475    3.822222   \n\n        User_Fantasy  User_Film-Noir  User_Horror  User_IMAX  User_Musical  \\\nuserId                                                                       \n1           3.600000        3.500000     3.500000   3.814286      3.700000   \n2           3.982759        3.630435     4.000000   4.750000      3.272727   \n3           3.737179        4.300000     3.544444   3.734568      3.583333   \n4           2.833333        3.378099     3.150000   2.426829      3.642857   \n5           3.500000        3.752475     4.666667   4.000000      3.714286   \n\n        User_Mystery  User_Romance  User_Sci-Fi  User_Thriller  User_War  \\\nuserId                                                                     \n1           3.500000      4.166667     3.700000       4.300000  3.900000   \n2           3.687500      3.161765     4.017857       3.833333  3.433333   \n3           3.891667      3.533333     3.696429       3.692469  3.692308   \n4           3.805556      3.450000     3.164706       3.544643  3.333333   \n5           4.714286      3.550000     4.090909       4.000000  4.500000   \n\n        User_Western  \nuserId                \n1           2.500000  \n2           2.500000  \n3           3.750000  \n4           2.833333  \n5           3.000000  ",
      "text/html": "<div>\n<style scoped>\n    .dataframe tbody tr th:only-of-type {\n        vertical-align: middle;\n    }\n\n    .dataframe tbody tr th {\n        vertical-align: top;\n    }\n\n    .dataframe thead th {\n        text-align: right;\n    }\n</style>\n<table border=\"1\" class=\"dataframe\">\n  <thead>\n    <tr style=\"text-align: right;\">\n      <th></th>\n      <th>User_(no genres listed)</th>\n      <th>User_Action</th>\n      <th>User_Adventure</th>\n      <th>User_Animation</th>\n      <th>User_Children</th>\n      <th>User_Comedy</th>\n      <th>User_Crime</th>\n      <th>User_Documentary</th>\n      <th>User_Drama</th>\n      <th>User_Fantasy</th>\n      <th>User_Film-Noir</th>\n      <th>User_Horror</th>\n      <th>User_IMAX</th>\n      <th>User_Musical</th>\n      <th>User_Mystery</th>\n      <th>User_Romance</th>\n      <th>User_Sci-Fi</th>\n      <th>User_Thriller</th>\n      <th>User_War</th>\n      <th>User_Western</th>\n    </tr>\n    <tr>\n      <th>userId</th>\n      <th></th>\n      <th></th>\n      <th></th>\n      <th></th>\n      <th></th>\n      <th></th>\n      <th></th>\n      <th></th>\n      <th></th>\n      <th></th>\n      <th></th>\n      <th></th>\n      <th></th>\n      <th></th>\n      <th></th>\n      <th></th>\n      <th></th>\n      <th></th>\n      <th></th>\n      <th></th>\n    </tr>\n  </thead>\n  <tbody>\n    <tr>\n      <th>1</th>\n      <td>3.814286</td>\n      <td>4.125000</td>\n      <td>3.727273</td>\n      <td>4.000000</td>\n      <td>3.833333</td>\n      <td>3.869565</td>\n      <td>4.062500</td>\n      <td>2.000000</td>\n      <td>3.867925</td>\n      <td>3.600000</td>\n      <td>3.500000</td>\n      <td>3.500000</td>\n      <td>3.814286</td>\n      <td>3.700000</td>\n      <td>3.500000</td>\n      <td>4.166667</td>\n      <td>3.700000</td>\n      <td>4.300000</td>\n      <td>3.900000</td>\n      <td>2.500000</td>\n    </tr>\n    <tr>\n      <th>2</th>\n      <td>3.630435</td>\n      <td>3.696970</td>\n      <td>3.906667</td>\n      <td>3.617647</td>\n      <td>3.660000</td>\n      <td>3.317460</td>\n      <td>3.138889</td>\n      <td>3.630435</td>\n      <td>3.571429</td>\n      <td>3.982759</td>\n      <td>3.630435</td>\n      <td>4.000000</td>\n      <td>4.750000</td>\n      <td>3.272727</td>\n      <td>3.687500</td>\n      <td>3.161765</td>\n      <td>4.017857</td>\n      <td>3.833333</td>\n      <td>3.433333</td>\n      <td>2.500000</td>\n    </tr>\n    <tr>\n      <th>3</th>\n      <td>3.500000</td>\n      <td>3.640719</td>\n      <td>3.689394</td>\n      <td>3.980000</td>\n      <td>3.708333</td>\n      <td>3.454545</td>\n      <td>3.886364</td>\n      <td>3.166667</td>\n      <td>3.890086</td>\n      <td>3.737179</td>\n      <td>4.300000</td>\n      <td>3.544444</td>\n      <td>3.734568</td>\n      <td>3.583333</td>\n      <td>3.891667</td>\n      <td>3.533333</td>\n      <td>3.696429</td>\n      <td>3.692469</td>\n      <td>3.692308</td>\n      <td>3.750000</td>\n    </tr>\n    <tr>\n      <th>4</th>\n      <td>3.378099</td>\n      <td>3.186207</td>\n      <td>3.074561</td>\n      <td>3.467742</td>\n      <td>3.214286</td>\n      <td>3.611111</td>\n      <td>3.972973</td>\n      <td>4.100000</td>\n      <td>3.744898</td>\n      <td>2.833333</td>\n      <td>3.378099</td>\n      <td>3.150000</td>\n      <td>2.426829</td>\n      <td>3.642857</td>\n      <td>3.805556</td>\n      <td>3.450000</td>\n      <td>3.164706</td>\n      <td>3.544643</td>\n      <td>3.333333</td>\n      <td>2.833333</td>\n    </tr>\n    <tr>\n      <th>5</th>\n      <td>3.752475</td>\n      <td>3.722222</td>\n      <td>3.857143</td>\n      <td>3.750000</td>\n      <td>3.333333</td>\n      <td>3.571429</td>\n      <td>4.142857</td>\n      <td>3.752475</td>\n      <td>3.822222</td>\n      <td>3.500000</td>\n      <td>3.752475</td>\n      <td>4.666667</td>\n      <td>4.000000</td>\n      <td>3.714286</td>\n      <td>4.714286</td>\n      <td>3.550000</td>\n      <td>4.090909</td>\n      <td>4.000000</td>\n      <td>4.500000</td>\n      <td>3.000000</td>\n    </tr>\n  </tbody>\n</table>\n</div>"
     },
     "execution_count": 19,
     "metadata": {},
     "output_type": "execute_result"
    }
   ],
   "source": [
    "from tqdm import tqdm\n",
    "# 拆分 genres 列\n",
    "genres_expanded = big_df['genres'].str.get_dummies('|')\n",
    "ratings_expanded = pd.concat([big_df, genres_expanded], axis=1)\n",
    "# 计算每个用户对每个类型的平均评分\n",
    "def calculate_genre_ratings(group):\n",
    "    genre_ratings = {}\n",
    "    for genre in genres_expanded.columns:\n",
    "        genre_movies = group[genre] == 1\n",
    "        if genre_movies.any():\n",
    "            genre_ratings[genre] = group.loc[genre_movies, 'rating'].mean()\n",
    "        else:\n",
    "            genre_ratings[genre] = None\n",
    "    return pd.Series(genre_ratings)\n",
    "\n",
    "tqdm.pandas()\n",
    "user_df = ratings_expanded.groupby('userId').progress_apply(calculate_genre_ratings)\n",
    "user_df = user_df.add_prefix('User_')\n",
    "\n",
    "user_df = user_df.apply(lambda row: row.fillna(user_average_ratings[row.name]), axis=1)\n",
    "user_df.head(5)"
   ],
   "metadata": {
    "collapsed": false,
    "ExecuteTime": {
     "end_time": "2023-12-03T14:44:48.637304300Z",
     "start_time": "2023-12-03T14:30:40.870143400Z"
    }
   },
   "id": "dd0caf2f80cde473"
  },
  {
   "cell_type": "code",
   "execution_count": 24,
   "outputs": [],
   "source": [
    "# 将User_id编码为二进制向量\n",
    "# 确定所需的二进制长度\n",
    "# 确定所需的二进制长度\n",
    "max_length = len(format(user_df.shape[0], 'b'))\n",
    "\n",
    "tqdm.pandas()\n",
    "# 应用转换\n",
    "binary_user_id_df = pd.DataFrame(pd.Series(user_df.index).apply(lambda x: convert_to_binary_vector(x, max_length)).tolist())\n",
    "# 为新列命名\n",
    "binary_user_id_df.columns = [f'binary_userId_{i}' for i in range(max_length)]\n",
    "# 将新列添加到原始 DataFrame 中\n",
    "user_df = pd.concat([user_df, binary_user_id_df], axis=1)"
   ],
   "metadata": {
    "collapsed": false,
    "ExecuteTime": {
     "end_time": "2023-12-03T14:47:29.126875300Z",
     "start_time": "2023-12-03T14:47:28.372464300Z"
    }
   },
   "id": "5781d378dff1e128"
  },
  {
   "cell_type": "code",
   "execution_count": 25,
   "outputs": [
    {
     "data": {
      "text/plain": "   User_(no genres listed)  User_Action  User_Adventure  User_Animation  \\\n1                 3.814286     4.125000        3.727273        4.000000   \n2                 3.630435     3.696970        3.906667        3.617647   \n3                 3.500000     3.640719        3.689394        3.980000   \n4                 3.378099     3.186207        3.074561        3.467742   \n5                 3.752475     3.722222        3.857143        3.750000   \n\n   User_Children  User_Comedy  User_Crime  User_Documentary  User_Drama  \\\n1       3.833333     3.869565    4.062500          2.000000    3.867925   \n2       3.660000     3.317460    3.138889          3.630435    3.571429   \n3       3.708333     3.454545    3.886364          3.166667    3.890086   \n4       3.214286     3.611111    3.972973          4.100000    3.744898   \n5       3.333333     3.571429    4.142857          3.752475    3.822222   \n\n   User_Fantasy  ...  binary_userId_8  binary_userId_9  binary_userId_10  \\\n1      3.600000  ...              0.0              0.0               0.0   \n2      3.982759  ...              0.0              0.0               0.0   \n3      3.737179  ...              0.0              0.0               0.0   \n4      2.833333  ...              0.0              0.0               0.0   \n5      3.500000  ...              0.0              0.0               0.0   \n\n   binary_userId_11  binary_userId_12  binary_userId_13  binary_userId_14  \\\n1               0.0               0.0               0.0               0.0   \n2               0.0               0.0               0.0               0.0   \n3               0.0               0.0               0.0               0.0   \n4               0.0               0.0               0.0               0.0   \n5               0.0               0.0               0.0               0.0   \n\n   binary_userId_15  binary_userId_16  binary_userId_17  \n1               0.0               1.0               0.0  \n2               0.0               1.0               1.0  \n3               1.0               0.0               0.0  \n4               1.0               0.0               1.0  \n5               1.0               1.0               0.0  \n\n[5 rows x 38 columns]",
      "text/html": "<div>\n<style scoped>\n    .dataframe tbody tr th:only-of-type {\n        vertical-align: middle;\n    }\n\n    .dataframe tbody tr th {\n        vertical-align: top;\n    }\n\n    .dataframe thead th {\n        text-align: right;\n    }\n</style>\n<table border=\"1\" class=\"dataframe\">\n  <thead>\n    <tr style=\"text-align: right;\">\n      <th></th>\n      <th>User_(no genres listed)</th>\n      <th>User_Action</th>\n      <th>User_Adventure</th>\n      <th>User_Animation</th>\n      <th>User_Children</th>\n      <th>User_Comedy</th>\n      <th>User_Crime</th>\n      <th>User_Documentary</th>\n      <th>User_Drama</th>\n      <th>User_Fantasy</th>\n      <th>...</th>\n      <th>binary_userId_8</th>\n      <th>binary_userId_9</th>\n      <th>binary_userId_10</th>\n      <th>binary_userId_11</th>\n      <th>binary_userId_12</th>\n      <th>binary_userId_13</th>\n      <th>binary_userId_14</th>\n      <th>binary_userId_15</th>\n      <th>binary_userId_16</th>\n      <th>binary_userId_17</th>\n    </tr>\n  </thead>\n  <tbody>\n    <tr>\n      <th>1</th>\n      <td>3.814286</td>\n      <td>4.125000</td>\n      <td>3.727273</td>\n      <td>4.000000</td>\n      <td>3.833333</td>\n      <td>3.869565</td>\n      <td>4.062500</td>\n      <td>2.000000</td>\n      <td>3.867925</td>\n      <td>3.600000</td>\n      <td>...</td>\n      <td>0.0</td>\n      <td>0.0</td>\n      <td>0.0</td>\n      <td>0.0</td>\n      <td>0.0</td>\n      <td>0.0</td>\n      <td>0.0</td>\n      <td>0.0</td>\n      <td>1.0</td>\n      <td>0.0</td>\n    </tr>\n    <tr>\n      <th>2</th>\n      <td>3.630435</td>\n      <td>3.696970</td>\n      <td>3.906667</td>\n      <td>3.617647</td>\n      <td>3.660000</td>\n      <td>3.317460</td>\n      <td>3.138889</td>\n      <td>3.630435</td>\n      <td>3.571429</td>\n      <td>3.982759</td>\n      <td>...</td>\n      <td>0.0</td>\n      <td>0.0</td>\n      <td>0.0</td>\n      <td>0.0</td>\n      <td>0.0</td>\n      <td>0.0</td>\n      <td>0.0</td>\n      <td>0.0</td>\n      <td>1.0</td>\n      <td>1.0</td>\n    </tr>\n    <tr>\n      <th>3</th>\n      <td>3.500000</td>\n      <td>3.640719</td>\n      <td>3.689394</td>\n      <td>3.980000</td>\n      <td>3.708333</td>\n      <td>3.454545</td>\n      <td>3.886364</td>\n      <td>3.166667</td>\n      <td>3.890086</td>\n      <td>3.737179</td>\n      <td>...</td>\n      <td>0.0</td>\n      <td>0.0</td>\n      <td>0.0</td>\n      <td>0.0</td>\n      <td>0.0</td>\n      <td>0.0</td>\n      <td>0.0</td>\n      <td>1.0</td>\n      <td>0.0</td>\n      <td>0.0</td>\n    </tr>\n    <tr>\n      <th>4</th>\n      <td>3.378099</td>\n      <td>3.186207</td>\n      <td>3.074561</td>\n      <td>3.467742</td>\n      <td>3.214286</td>\n      <td>3.611111</td>\n      <td>3.972973</td>\n      <td>4.100000</td>\n      <td>3.744898</td>\n      <td>2.833333</td>\n      <td>...</td>\n      <td>0.0</td>\n      <td>0.0</td>\n      <td>0.0</td>\n      <td>0.0</td>\n      <td>0.0</td>\n      <td>0.0</td>\n      <td>0.0</td>\n      <td>1.0</td>\n      <td>0.0</td>\n      <td>1.0</td>\n    </tr>\n    <tr>\n      <th>5</th>\n      <td>3.752475</td>\n      <td>3.722222</td>\n      <td>3.857143</td>\n      <td>3.750000</td>\n      <td>3.333333</td>\n      <td>3.571429</td>\n      <td>4.142857</td>\n      <td>3.752475</td>\n      <td>3.822222</td>\n      <td>3.500000</td>\n      <td>...</td>\n      <td>0.0</td>\n      <td>0.0</td>\n      <td>0.0</td>\n      <td>0.0</td>\n      <td>0.0</td>\n      <td>0.0</td>\n      <td>0.0</td>\n      <td>1.0</td>\n      <td>1.0</td>\n      <td>0.0</td>\n    </tr>\n  </tbody>\n</table>\n<p>5 rows × 38 columns</p>\n</div>"
     },
     "execution_count": 25,
     "metadata": {},
     "output_type": "execute_result"
    }
   ],
   "source": [
    "user_df.head(5)"
   ],
   "metadata": {
    "collapsed": false,
    "ExecuteTime": {
     "end_time": "2023-12-03T14:47:31.845218500Z",
     "start_time": "2023-12-03T14:47:31.801995600Z"
    }
   },
   "id": "6f29fdf4610fc907"
  },
  {
   "cell_type": "code",
   "execution_count": 26,
   "outputs": [],
   "source": [
    "big_df = big_df.merge(user_df, left_on='userId', right_index=True, how='left')"
   ],
   "metadata": {
    "collapsed": false,
    "ExecuteTime": {
     "end_time": "2023-12-03T14:48:17.679282400Z",
     "start_time": "2023-12-03T14:48:06.550667700Z"
    }
   },
   "id": "37ad5dd2ce9645d9"
  },
  {
   "cell_type": "code",
   "execution_count": 28,
   "outputs": [],
   "source": [
    "big_df = big_df.merge(movies_df, left_on='userId', right_index=True, how='left')"
   ],
   "metadata": {
    "collapsed": false,
    "ExecuteTime": {
     "end_time": "2023-12-03T14:49:53.310649400Z",
     "start_time": "2023-12-03T14:49:03.626300400Z"
    }
   },
   "id": "336a46297b3adf6b"
  },
  {
   "cell_type": "code",
   "execution_count": 27,
   "outputs": [
    {
     "data": {
      "text/plain": "   userId  movieId  rating   timestamp                       genres  \\\n0       1      296     5.0  1147880044  Comedy|Crime|Drama|Thriller   \n1       1      306     3.5  1147868817                        Drama   \n2       1      307     5.0  1147868828                        Drama   \n3       1      665     5.0  1147878820             Comedy|Drama|War   \n4       1      899     3.5  1147868510       Comedy|Musical|Romance   \n\n   User_(no genres listed)  User_Action  User_Adventure  User_Animation  \\\n0                 3.814286        4.125        3.727273             4.0   \n1                 3.814286        4.125        3.727273             4.0   \n2                 3.814286        4.125        3.727273             4.0   \n3                 3.814286        4.125        3.727273             4.0   \n4                 3.814286        4.125        3.727273             4.0   \n\n   User_Children  ...  binary_userId_8  binary_userId_9  binary_userId_10  \\\n0       3.833333  ...              0.0              0.0               0.0   \n1       3.833333  ...              0.0              0.0               0.0   \n2       3.833333  ...              0.0              0.0               0.0   \n3       3.833333  ...              0.0              0.0               0.0   \n4       3.833333  ...              0.0              0.0               0.0   \n\n   binary_userId_11  binary_userId_12  binary_userId_13  binary_userId_14  \\\n0               0.0               0.0               0.0               0.0   \n1               0.0               0.0               0.0               0.0   \n2               0.0               0.0               0.0               0.0   \n3               0.0               0.0               0.0               0.0   \n4               0.0               0.0               0.0               0.0   \n\n   binary_userId_15  binary_userId_16  binary_userId_17  \n0               0.0               1.0               0.0  \n1               0.0               1.0               0.0  \n2               0.0               1.0               0.0  \n3               0.0               1.0               0.0  \n4               0.0               1.0               0.0  \n\n[5 rows x 43 columns]",
      "text/html": "<div>\n<style scoped>\n    .dataframe tbody tr th:only-of-type {\n        vertical-align: middle;\n    }\n\n    .dataframe tbody tr th {\n        vertical-align: top;\n    }\n\n    .dataframe thead th {\n        text-align: right;\n    }\n</style>\n<table border=\"1\" class=\"dataframe\">\n  <thead>\n    <tr style=\"text-align: right;\">\n      <th></th>\n      <th>userId</th>\n      <th>movieId</th>\n      <th>rating</th>\n      <th>timestamp</th>\n      <th>genres</th>\n      <th>User_(no genres listed)</th>\n      <th>User_Action</th>\n      <th>User_Adventure</th>\n      <th>User_Animation</th>\n      <th>User_Children</th>\n      <th>...</th>\n      <th>binary_userId_8</th>\n      <th>binary_userId_9</th>\n      <th>binary_userId_10</th>\n      <th>binary_userId_11</th>\n      <th>binary_userId_12</th>\n      <th>binary_userId_13</th>\n      <th>binary_userId_14</th>\n      <th>binary_userId_15</th>\n      <th>binary_userId_16</th>\n      <th>binary_userId_17</th>\n    </tr>\n  </thead>\n  <tbody>\n    <tr>\n      <th>0</th>\n      <td>1</td>\n      <td>296</td>\n      <td>5.0</td>\n      <td>1147880044</td>\n      <td>Comedy|Crime|Drama|Thriller</td>\n      <td>3.814286</td>\n      <td>4.125</td>\n      <td>3.727273</td>\n      <td>4.0</td>\n      <td>3.833333</td>\n      <td>...</td>\n      <td>0.0</td>\n      <td>0.0</td>\n      <td>0.0</td>\n      <td>0.0</td>\n      <td>0.0</td>\n      <td>0.0</td>\n      <td>0.0</td>\n      <td>0.0</td>\n      <td>1.0</td>\n      <td>0.0</td>\n    </tr>\n    <tr>\n      <th>1</th>\n      <td>1</td>\n      <td>306</td>\n      <td>3.5</td>\n      <td>1147868817</td>\n      <td>Drama</td>\n      <td>3.814286</td>\n      <td>4.125</td>\n      <td>3.727273</td>\n      <td>4.0</td>\n      <td>3.833333</td>\n      <td>...</td>\n      <td>0.0</td>\n      <td>0.0</td>\n      <td>0.0</td>\n      <td>0.0</td>\n      <td>0.0</td>\n      <td>0.0</td>\n      <td>0.0</td>\n      <td>0.0</td>\n      <td>1.0</td>\n      <td>0.0</td>\n    </tr>\n    <tr>\n      <th>2</th>\n      <td>1</td>\n      <td>307</td>\n      <td>5.0</td>\n      <td>1147868828</td>\n      <td>Drama</td>\n      <td>3.814286</td>\n      <td>4.125</td>\n      <td>3.727273</td>\n      <td>4.0</td>\n      <td>3.833333</td>\n      <td>...</td>\n      <td>0.0</td>\n      <td>0.0</td>\n      <td>0.0</td>\n      <td>0.0</td>\n      <td>0.0</td>\n      <td>0.0</td>\n      <td>0.0</td>\n      <td>0.0</td>\n      <td>1.0</td>\n      <td>0.0</td>\n    </tr>\n    <tr>\n      <th>3</th>\n      <td>1</td>\n      <td>665</td>\n      <td>5.0</td>\n      <td>1147878820</td>\n      <td>Comedy|Drama|War</td>\n      <td>3.814286</td>\n      <td>4.125</td>\n      <td>3.727273</td>\n      <td>4.0</td>\n      <td>3.833333</td>\n      <td>...</td>\n      <td>0.0</td>\n      <td>0.0</td>\n      <td>0.0</td>\n      <td>0.0</td>\n      <td>0.0</td>\n      <td>0.0</td>\n      <td>0.0</td>\n      <td>0.0</td>\n      <td>1.0</td>\n      <td>0.0</td>\n    </tr>\n    <tr>\n      <th>4</th>\n      <td>1</td>\n      <td>899</td>\n      <td>3.5</td>\n      <td>1147868510</td>\n      <td>Comedy|Musical|Romance</td>\n      <td>3.814286</td>\n      <td>4.125</td>\n      <td>3.727273</td>\n      <td>4.0</td>\n      <td>3.833333</td>\n      <td>...</td>\n      <td>0.0</td>\n      <td>0.0</td>\n      <td>0.0</td>\n      <td>0.0</td>\n      <td>0.0</td>\n      <td>0.0</td>\n      <td>0.0</td>\n      <td>0.0</td>\n      <td>1.0</td>\n      <td>0.0</td>\n    </tr>\n  </tbody>\n</table>\n<p>5 rows × 43 columns</p>\n</div>"
     },
     "execution_count": 27,
     "metadata": {},
     "output_type": "execute_result"
    }
   ],
   "source": [
    "big_df.head(5)"
   ],
   "metadata": {
    "collapsed": false,
    "ExecuteTime": {
     "end_time": "2023-12-03T14:48:23.259592200Z",
     "start_time": "2023-12-03T14:48:23.226570100Z"
    }
   },
   "id": "77050c2b8a2b2abe"
  },
  {
   "cell_type": "code",
   "execution_count": null,
   "outputs": [],
   "source": [
    "# 过滤掉文本值的列\n",
    "data_df = big_df.drop(['title', 'genres'], axis=1)\n",
    "\n",
    "# 展开矢量值的列\n",
    "for col in data_df.columns:\n",
    "    if isinstance(data_df[col].iloc[0], list):  # 检查第一个元素是否为列表\n",
    "        # 展开矢量列\n",
    "        print(col)\n",
    "        expanded_df = data_df[col].apply(pd.Series)\n",
    "        expanded_df.columns = [f'{col}_{i}' for i in range(expanded_df.shape[1])]\n",
    "        data_df = pd.concat([data_df, expanded_df], axis=1).drop(col, axis=1)\n"
   ],
   "metadata": {
    "collapsed": false,
    "is_executing": true,
    "ExecuteTime": {
     "start_time": "2023-12-03T13:39:51.748464600Z"
    }
   },
   "id": "55bae0edca944dce"
  },
  {
   "cell_type": "code",
   "execution_count": null,
   "outputs": [],
   "source": [
    "data_df.head(5)"
   ],
   "metadata": {
    "collapsed": false,
    "is_executing": true
   },
   "id": "cbd68cdfe53f62ec"
  },
  {
   "cell_type": "markdown",
   "source": [
    "## 使用ML模型进行预测\n",
    "此处暂时选用的ML模型为线性回归"
   ],
   "metadata": {
    "collapsed": false
   },
   "id": "fe369bf24e421ef7"
  },
  {
   "cell_type": "code",
   "execution_count": null,
   "outputs": [],
   "source": [
    "## 数值归一化\n",
    "from sklearn.model_selection import train_test_split\n",
    "from sklearn.preprocessing import StandardScaler\n",
    "from sklearn.linear_model import LinearRegression\n",
    "from sklearn.metrics import mean_squared_error\n",
    "\n",
    "# 分离特征和目标变量\n",
    "X = data_df.drop(['rating', 'timestamp', ], axis=1)\n",
    "y = data_df['rating']\n",
    "\n",
    "# 归一化特征\n",
    "scaler = StandardScaler()\n",
    "X_scaled = scaler.fit_transform(X)\n",
    "\n",
    "# 划分数据集\n",
    "X_train, X_test, y_train, y_test = train_test_split(X_scaled, y, test_size=0.3, random_state=5021)\n",
    "\n",
    "# 应用线性回归模型\n",
    "model = LinearRegression()\n",
    "model.fit(X_train, y_train)\n",
    "\n",
    "# 在测试集上进行预测\n",
    "y_pred = model.predict(X_test)\n",
    "\n",
    "# 计算均方误差\n",
    "mse = mean_squared_error(y_test, y_pred)\n",
    "print(\"均方误差(MSE):\", mse)"
   ],
   "metadata": {
    "collapsed": false
   },
   "id": "35446dee9449b69"
  },
  {
   "cell_type": "markdown",
   "source": [
    "## 处理genome_scores_df\n",
    "将genome_scores_df中的relevance列进行矢量化，部分电影没有相匹配的genome_relevence，用平均向量填充缺失值"
   ],
   "metadata": {
    "collapsed": false
   },
   "id": "1eb35766adac6dd2"
  },
  {
   "cell_type": "code",
   "execution_count": null,
   "outputs": [],
   "source": [
    "# 对genome_scores_df进行矢量化\n",
    "# 按 movieId 分组，并对每个组内的 relevance 进行矢量化\n",
    "grouped = genome_scores_df.groupby('movieId')['relevance'].apply(list)\n",
    "# 如果你希望将这个 Series 转换回 DataFrame，并将索引重置为列\n",
    "vectorized_df = grouped.reset_index(name='relevance_vector')\n",
    "vectorized_df.head(5)"
   ],
   "metadata": {
    "collapsed": false,
    "is_executing": true
   },
   "id": "80ca3a8bf61cbdfe"
  },
  {
   "cell_type": "code",
   "execution_count": null,
   "outputs": [],
   "source": [
    "# Join movie data and genome scores\n",
    "movies_df = movies_df.merge(vectorized_df, on='movieId', how='left')"
   ],
   "metadata": {
    "collapsed": false,
    "is_executing": true
   },
   "id": "35c05e236e9154d7"
  },
  {
   "cell_type": "code",
   "execution_count": null,
   "outputs": [],
   "source": [
    "# 仅选择有 relevance_vector 的行进行计算\n",
    "valid_vectors = movies_df[movies_df['relevance_vector'].notna()]['relevance_vector'].tolist()\n",
    "# 计算平均向量，这里假设所有向量长度相同\n",
    "average_vector = np.mean(np.array(valid_vectors), axis=0).tolist()\n",
    "# 使用平均向量填充缺失值\n",
    "movies_df['relevance_vector'] = movies_df['relevance_vector'].apply(lambda x: x if isinstance(x, list) else average_vector)\n",
    "# 检查缺失值填充后的结果\n",
    "print(movies_df.head())"
   ],
   "metadata": {
    "collapsed": false,
    "is_executing": true
   },
   "id": "5d92ab88d5bc4049"
  }
 ],
 "metadata": {
  "kernelspec": {
   "display_name": "Python 3",
   "language": "python",
   "name": "python3"
  },
  "language_info": {
   "codemirror_mode": {
    "name": "ipython",
    "version": 2
   },
   "file_extension": ".py",
   "mimetype": "text/x-python",
   "name": "python",
   "nbconvert_exporter": "python",
   "pygments_lexer": "ipython2",
   "version": "2.7.6"
  }
 },
 "nbformat": 4,
 "nbformat_minor": 5
}
